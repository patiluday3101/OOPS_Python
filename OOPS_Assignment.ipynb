{
  "nbformat": 4,
  "nbformat_minor": 0,
  "metadata": {
    "colab": {
      "provenance": []
    },
    "kernelspec": {
      "name": "python3",
      "display_name": "Python 3"
    },
    "language_info": {
      "name": "python"
    }
  },
  "cells": [
    {
      "cell_type": "code",
      "execution_count": null,
      "metadata": {
        "id": "Gh3BAhmNe-tK"
      },
      "outputs": [],
      "source": []
    },
    {
      "cell_type": "markdown",
      "source": [
        "## **Constructor**"
      ],
      "metadata": {
        "id": "sF21K-O2Bm3A"
      }
    },
    {
      "cell_type": "markdown",
      "source": [
        "1. What is a constructor in Python? Explain its purpose and usage.\n"
      ],
      "metadata": {
        "id": "RLadwKs0Bra_"
      }
    },
    {
      "cell_type": "code",
      "source": [
        "# Ans-\n",
        "# Defintion- A constructor is a special method used to initialize a newly created object.\n",
        "# In python the constructer method is name as __init__().\n",
        "# The constructer is define with in a class.\n",
        "# the __init__() method is actomatically called when the object was created.\n",
        "# Uses- it is used to assign values to objecy properties ot perform the any othe initialization actions."
      ],
      "metadata": {
        "id": "UeJ8KSSdBuTD"
      },
      "execution_count": null,
      "outputs": []
    },
    {
      "cell_type": "markdown",
      "source": [
        "2. Differentiate between a parameterless constructor and a parameterized constructor in Python"
      ],
      "metadata": {
        "id": "b-6Aa3l3Bx-T"
      }
    },
    {
      "cell_type": "code",
      "source": [
        "# Ans-\n",
        "# 1) Parameterized constructor-\n",
        "#     a constructor can accept the one or more parameter to intiliaze the object with specific value\n",
        "#     it use when we needed the initialise an object with specific attribute.\n",
        "# 2) Parameteless constructor-\n",
        "#     a constructor have does not accept any parameter other than self to intiliaze the object with specific value\n",
        "#     it use when we needed the initialise an object with default values"
      ],
      "metadata": {
        "id": "7mPBD2okB0R4"
      },
      "execution_count": null,
      "outputs": []
    },
    {
      "cell_type": "markdown",
      "source": [
        "3) How do you define a constructor in a Python class? Provide an example."
      ],
      "metadata": {
        "id": "8W4Wn6Y6B3f5"
      }
    },
    {
      "cell_type": "code",
      "source": [
        "# we can define a constructor in a python class by using __init__() method.\n",
        "# for example-\n",
        "# class Person:\n",
        "#     def __init__(self, name, age):\n",
        "#         self.name = name\n",
        "#         self.age = age"
      ],
      "metadata": {
        "id": "Gup52GypB5Wc"
      },
      "execution_count": null,
      "outputs": []
    },
    {
      "cell_type": "markdown",
      "source": [
        "4. Explain the `__init__` method in Python and its role in constructors.\n"
      ],
      "metadata": {
        "id": "3X9NDzM8CANk"
      }
    },
    {
      "cell_type": "code",
      "source": [
        "# - **Definition**: `__init__` is a special method in Python, known as the constructor method.\n",
        "# - **Initialization**: It initializes a newly created object with the provided values or default values.\n",
        "# - **First Parameter**: The first parameter of `__init__` is always `self`, which represents the instance being created.\n",
        "# - **Custom Attributes**: `__init__` allows the setting of instance-specific attributes during object creation.\n",
        "# - **Automatic Call**: `__init__` is automatically called when a new instance of a class is created.\n",
        "# - **No Return Value**: `__init__` does not return a value; it always returns `None`.\n",
        "# - **Code Organization**: It helps organize code by encapsulating initialization logic within the class.\n",
        "# - **Overriding**: `__init__` can be overridden in a subclass to provide additional or alternative initialization logic."
      ],
      "metadata": {
        "id": "ZZsM8mVHCE3N"
      },
      "execution_count": null,
      "outputs": []
    },
    {
      "cell_type": "markdown",
      "source": [
        "5. In a class named `Person`, create a constructor that initializes the `name` and `age` attributes. Provide an\n",
        "example of creating an object of this class."
      ],
      "metadata": {
        "id": "wJ6VumexC23V"
      }
    },
    {
      "cell_type": "code",
      "source": [
        "class person:\n",
        "  def __init__(self,name,age):\n",
        "    self.name=name\n",
        "    self.age=age\n",
        "p=person(\"ravi\",23)\n",
        "print(p.name)\n",
        "print(p.age)"
      ],
      "metadata": {
        "colab": {
          "base_uri": "https://localhost:8080/"
        },
        "id": "cfIYybDuC688",
        "outputId": "772d6e67-613d-4c5f-f1ce-b6cac91ff092"
      },
      "execution_count": null,
      "outputs": [
        {
          "output_type": "stream",
          "name": "stdout",
          "text": [
            "ravi\n",
            "23\n"
          ]
        }
      ]
    },
    {
      "cell_type": "markdown",
      "source": [
        "6. How can you call a constructor explicitly in Python? Give an example.\n"
      ],
      "metadata": {
        "id": "q4T8x1LFDG0L"
      }
    },
    {
      "cell_type": "code",
      "source": [
        "class MyClass:\n",
        "    def __init__(self, value):\n",
        "        self.value = value\n",
        "        print(f\"MyClass initialized with value: {self.value}\")\n",
        "\n",
        "# Creating a new instance of MyClass\n",
        "obj = MyClass(10)\n",
        "\n",
        "# Explicitly calling the __init__ method on the existing object\n",
        "obj.__init__(20)\n",
        "\n",
        "# This will output:\n",
        "# MyClass initialized with value: 10\n",
        "# MyClass initialized with value: 20\n"
      ],
      "metadata": {
        "colab": {
          "base_uri": "https://localhost:8080/"
        },
        "id": "ALIZ4GYrDNK3",
        "outputId": "9830feec-b183-4bc1-9431-e331855e5212"
      },
      "execution_count": null,
      "outputs": [
        {
          "output_type": "stream",
          "name": "stdout",
          "text": [
            "MyClass initialized with value: 10\n",
            "MyClass initialized with value: 20\n"
          ]
        }
      ]
    },
    {
      "cell_type": "markdown",
      "source": [
        "7. What is the significance of the `self` parameter in Python constructors? Explain with an example.\n"
      ],
      "metadata": {
        "id": "FIxAMhuHDq_b"
      }
    },
    {
      "cell_type": "code",
      "source": [
        "# the significance of the self parameter in python is used to refer to the\n",
        "# instance of the class itself.\n",
        "class student:\n",
        "  def __init__(self,name,age):\n",
        "    self.name=name\n",
        "    self.age=age\n",
        "s=student(\"ravi\",23)\n",
        "print(s.name)\n",
        "print(s.age)\n"
      ],
      "metadata": {
        "colab": {
          "base_uri": "https://localhost:8080/"
        },
        "id": "47ZhuQUeDtoH",
        "outputId": "74c45b33-86ec-4c83-cdb4-023f42f9c9c3"
      },
      "execution_count": null,
      "outputs": [
        {
          "output_type": "stream",
          "name": "stdout",
          "text": [
            "ravi\n",
            "23\n"
          ]
        }
      ]
    },
    {
      "cell_type": "markdown",
      "source": [
        "8. Discuss the concept of default constructors in Python. When are they used?\n"
      ],
      "metadata": {
        "id": "-J9F7tuuEGJd"
      }
    },
    {
      "cell_type": "code",
      "source": [
        "# In python there are two constructer one is Parameterized and other is default constructor.\n",
        "# the default constructer means there have not pass a parameter to the constructor.\n",
        "# we use the default constructer when we needed the initialise an object with default values."
      ],
      "metadata": {
        "id": "RalXki_7EJDF"
      },
      "execution_count": null,
      "outputs": []
    },
    {
      "cell_type": "markdown",
      "source": [
        "9. Create a Python class called `Rectangle` with a constructor that initializes the `width` and `height`\n",
        "attributes. Provide a method to calculate the area of the rectangle."
      ],
      "metadata": {
        "id": "Kg4b-rz1EteU"
      }
    },
    {
      "cell_type": "code",
      "source": [
        "class Rectangle:\n",
        "    def __init__(self, width, height):\n",
        "        self.width = width\n",
        "        self.height = height\n",
        "\n",
        "    def calculate_area(self):\n",
        "        return self.width * self.height\n",
        "\n",
        "r=Rectangle(10,20)\n",
        "print(r.calculate_area())"
      ],
      "metadata": {
        "colab": {
          "base_uri": "https://localhost:8080/"
        },
        "id": "k857cwZWExEP",
        "outputId": "c6aab2a8-be86-48f2-d93b-8d4b958f6c43"
      },
      "execution_count": null,
      "outputs": [
        {
          "output_type": "stream",
          "name": "stdout",
          "text": [
            "200\n"
          ]
        }
      ]
    },
    {
      "cell_type": "markdown",
      "source": [
        "10. How can you have multiple constructors in a Python class? Explain with an example.\n"
      ],
      "metadata": {
        "id": "t5BDNQGeGF91"
      }
    },
    {
      "cell_type": "code",
      "source": [
        "# In Python, you can't have multiple constructors like in some other languages, but you can achieve similar functionality by using class methods or default arguments. Here's how you can do it using class methods:\n",
        "\n",
        "# ### Using Class Methods\n",
        "# You can define multiple class methods that act as alternative constructors.\n",
        "\n",
        "class MyClass:\n",
        "    def __init__(self, value):\n",
        "        self.value = value\n",
        "        print(f\"MyClass initialized with value: {self.value}\")\n",
        "\n",
        "    @classmethod\n",
        "    def from_string(cls, string_value):\n",
        "        value = int(string_value)\n",
        "        return cls(value)\n",
        "\n",
        "    @classmethod\n",
        "    def from_list(cls, value_list):\n",
        "        value = sum(value_list)\n",
        "        return cls(value)\n",
        "\n",
        "# Using the default constructor\n",
        "obj1 = MyClass(10)\n",
        "\n",
        "# Using the alternative constructor from_string\n",
        "obj2 = MyClass.from_string(\"20\")\n",
        "\n",
        "# Using the alternative constructor from_list\n",
        "obj3 = MyClass.from_list([1, 2, 3, 4])\n",
        "\n",
        "# Outputs:\n",
        "# MyClass initialized with value: 10\n",
        "# MyClass initialized with value: 20\n",
        "# MyClass initialized with value: 10\n",
        "### Using Default Arguments\n",
        "# You can also use default arguments to handle different types of initialization within a single `__init__` method.\n",
        "\n",
        "# ```python\n",
        "class MyClass:\n",
        "    def __init__(self, value=None, string_value=None, value_list=None):\n",
        "        if value is not None:\n",
        "            self.value = value\n",
        "        elif string_value is not None:\n",
        "            self.value = int(string_value)\n",
        "        elif value_list is not None:\n",
        "            self.value = sum(value_list)\n",
        "        else:\n",
        "            self.value = 0\n",
        "        print(f\"MyClass initialized with value: {self.value}\")\n",
        "\n",
        "# Using value\n",
        "obj1 = MyClass(value=10)\n",
        "\n",
        "# Using string_value\n",
        "obj2 = MyClass(string_value=\"20\")\n",
        "\n",
        "# Using value_list\n",
        "obj3 = MyClass(value_list=[1, 2, 3, 4])\n",
        "\n",
        "# Outputs:\n",
        "# MyClass initialized with value: 10\n",
        "# MyClass initialized with value: 20\n",
        "# MyClass initialized with value: 10\n",
        "\n",
        "# These methods allow you to provide multiple ways to create an instance of a class, effectively simulating multiple constructors in Python."
      ],
      "metadata": {
        "colab": {
          "base_uri": "https://localhost:8080/"
        },
        "id": "Pg7q8C6eGJX0",
        "outputId": "a67b25ad-7e84-4ce7-c4d9-bde39f5512bb"
      },
      "execution_count": null,
      "outputs": [
        {
          "output_type": "stream",
          "name": "stdout",
          "text": [
            "MyClass initialized with value: 10\n",
            "MyClass initialized with value: 20\n",
            "MyClass initialized with value: 10\n",
            "MyClass initialized with value: 10\n",
            "MyClass initialized with value: 20\n",
            "MyClass initialized with value: 10\n"
          ]
        }
      ]
    },
    {
      "cell_type": "markdown",
      "source": [
        "11. What is method overloading, and how is it related to constructors in Python?"
      ],
      "metadata": {
        "id": "B49ozn9CZ7TQ"
      }
    },
    {
      "cell_type": "code",
      "source": [
        "# Method overloading in Python refers to the ability to define multiple methods with the same name but different parameters in a class. It allows a class to have more than one method having the same name, if their parameter lists are different. This can be achieved by defining multiple methods with the same name but with different numbers or types of arguments.\n",
        "\n",
        "# However, Python does not support method overloading in the same way as some other languages like Java or C++. In Python, if you define multiple methods with the same name, the last one defined will overwrite the previous ones. Instead, you can use default arguments, variable-length arguments, or type checking within a single method to achieve similar functionality."
      ],
      "metadata": {
        "id": "UkH49yLpaC95"
      },
      "execution_count": null,
      "outputs": []
    },
    {
      "cell_type": "markdown",
      "source": [
        "12. Explain the use of the `super()` function in Python constructors. Provide an example."
      ],
      "metadata": {
        "id": "O7h7Xf-eaiMc"
      }
    },
    {
      "cell_type": "code",
      "source": [
        "# The super() function in Python is used to call a method from the parent class. It is especially useful in the context of inheritance, where a subclass wants to extend or modify the behavior of a method from its parent class. In constructors, super() is commonly used to call the constructor of the parent class, ensuring that the parent class is properly initialized before any additional initialization in the subclass.\n",
        "\n",
        "# Use of super() in Constructors\n",
        "# When you have a class that inherits from a parent class, you might want to initialize the parent class within the constructor of the child class. Using super() in the constructor of the child class allows you to call the parent class's constructor, ensuring that the parent class's initialization code is executed.\n",
        "class Parent:\n",
        "    def __init__(self, name):\n",
        "        self.name = name\n",
        "        print(f\"Parent initialized with name: {self.name}\")\n",
        "\n",
        "class Child(Parent):\n",
        "    def __init__(self, name, age):\n",
        "        # Call the constructor of the Parent class\n",
        "        super().__init__(name)\n",
        "        self.age = age\n",
        "        print(f\"Child initialized with name: {self.name} and age: {self.age}\")\n",
        "\n",
        "# Create an instance of Child\n",
        "child = Child(\"John\", 12)\n"
      ],
      "metadata": {
        "id": "lLE6sP8yamWK"
      },
      "execution_count": null,
      "outputs": []
    },
    {
      "cell_type": "markdown",
      "source": [
        "13. Create a class called `Book` with a constructor that initializes the `title`, `author`, and `published_year`\n",
        "attributes. Provide a method to display book details."
      ],
      "metadata": {
        "id": "lFvPJG8lcidK"
      }
    },
    {
      "cell_type": "code",
      "source": [
        "class Book:\n",
        "  def __init__(self,title,author,published_year):\n",
        "    self.title=title\n",
        "    self.author=author\n",
        "    self.published_year=published_year\n",
        "  def display(self):\n",
        "    print(f\"title:{self.title}\")\n",
        "    print(f\"author:{self.author}\")\n",
        "    print(f\"published_year:{self.published_year}\")\n",
        "b=Book(\"python\",\"ravi\",2023)\n",
        "b.display()"
      ],
      "metadata": {
        "colab": {
          "base_uri": "https://localhost:8080/"
        },
        "id": "aFJJn3pZcngX",
        "outputId": "cd8e0f6f-2319-431d-8fb3-4f68cb35c6ea"
      },
      "execution_count": null,
      "outputs": [
        {
          "output_type": "stream",
          "name": "stdout",
          "text": [
            "title:python\n",
            "author:ravi\n",
            "published_year:2023\n"
          ]
        }
      ]
    },
    {
      "cell_type": "markdown",
      "source": [
        "14. Discuss the differences between constructors and regular methods in Python classes."
      ],
      "metadata": {
        "id": "FvX6Atywc2mw"
      }
    },
    {
      "cell_type": "code",
      "source": [
        "# # Sure, here are the key differences between constructors and regular methods in Python classes, summarized:\n",
        "\n",
        "# ### Constructors\n",
        "# 1. **Purpose**: Initialize the state of an object.\n",
        "# 2. **Name**: Always named `__init__`.\n",
        "# 3. **Call**: Automatically called during object creation.\n",
        "# 4. **Return Type**: Implicitly returns `None`.\n",
        "# 5. **Syntax**: Takes `self` as the first parameter and may include additional parameters for initialization.\n",
        "\n",
        "# ### Regular Methods\n",
        "# 1. **Purpose**: Define behaviors and actions for the object.\n",
        "# 2. **Name**: Can have any valid method name.\n",
        "# 3. **Call**: Explicitly called on an object instance.\n",
        "# 4. **Return Type**: Can return any value.\n",
        "# 5. **Syntax**: Takes `self` as the first parameter and can include additional parameters as needed.\n",
        "\n",
        "# ### Example\n",
        "# ```python\n",
        "class MyClass:\n",
        "    def __init__(self, value):\n",
        "        self.value = value  # Constructor\n",
        "    def display_value(self):\n",
        "        print(self.value)  # Regular method\n",
        "    def increment_value(self, amount):\n",
        "        self.value += amount  # Regular method\n",
        "\n",
        "obj = MyClass(10)  # Constructor called\n",
        "obj.display_value()  # Regular method called\n",
        "obj.increment_value(5)  # Regular method called\n"
      ],
      "metadata": {
        "colab": {
          "base_uri": "https://localhost:8080/"
        },
        "id": "jujV4EPkc5bi",
        "outputId": "47e91d1e-a01a-421a-e8ec-5f2d030ad393"
      },
      "execution_count": null,
      "outputs": [
        {
          "output_type": "stream",
          "name": "stdout",
          "text": [
            "10\n"
          ]
        }
      ]
    },
    {
      "cell_type": "markdown",
      "source": [
        "15. Explain the role of the `self` parameter in instance variable initialization within a constructor."
      ],
      "metadata": {
        "id": "pLQyXLmsdp9f"
      }
    },
    {
      "cell_type": "code",
      "source": [
        "# The self parameter in Python is a reference to the current instance of the class. It is used to access instance variables and methods from within the class. When initializing instance variables within a constructor, the self parameter plays a crucial role in associating the values of these variables with the specific instance of the class being created."
      ],
      "metadata": {
        "id": "5nDkO8HCdtwj"
      },
      "execution_count": null,
      "outputs": []
    },
    {
      "cell_type": "markdown",
      "source": [
        "16. How do you prevent a class from having multiple instances by using constructors in Python? Provide an\n",
        "example."
      ],
      "metadata": {
        "id": "K5ctozgEeRze"
      }
    },
    {
      "cell_type": "code",
      "source": [
        "# To prevent a class from having multiple instances in Python, you can implement the Singleton design pattern. The Singleton pattern ensures that a class has only one instance and provides a global point of access to it. There are several ways to implement a Singleton pattern in Python, but one common approach is to use a class attribute to store the single instance and override the __new__ method."
      ],
      "metadata": {
        "id": "ZwPQms9sePqG"
      },
      "execution_count": null,
      "outputs": []
    },
    {
      "cell_type": "markdown",
      "source": [
        "17. Create a Python class called `Student` with a constructor that takes a list of subjects as a parameter and\n",
        "initializes the `subjects` attribute."
      ],
      "metadata": {
        "id": "0j-nVorde-Zx"
      }
    },
    {
      "cell_type": "code",
      "source": [
        "class Student:\n",
        "  def __init__(self,subjects):\n",
        "    self.subjects=subjects\n",
        "s=Student([\"python\",\"java\",\"c\"])\n",
        "print(s.subjects)"
      ],
      "metadata": {
        "colab": {
          "base_uri": "https://localhost:8080/"
        },
        "id": "9fIwU6XLfEVI",
        "outputId": "be21641e-87ee-499c-a8f2-f885bf85f004"
      },
      "execution_count": null,
      "outputs": [
        {
          "output_type": "stream",
          "name": "stdout",
          "text": [
            "['python', 'java', 'c']\n"
          ]
        }
      ]
    },
    {
      "cell_type": "markdown",
      "source": [
        "18. What is the purpose of the `__del__` method in Python classes, and how does it relate to constructors?"
      ],
      "metadata": {
        "id": "AgCfjjrGfMlw"
      }
    },
    {
      "cell_type": "code",
      "source": [
        "\n",
        "# The __del__ method in Python is known as the destructor. Its purpose is to define the cleanup behavior for an instance of a class when it is about to be destroyed. It is the counterpart to the constructor (__init__), which initializes an instance when it is created."
      ],
      "metadata": {
        "id": "NHFHUaRYfPMG"
      },
      "execution_count": null,
      "outputs": []
    },
    {
      "cell_type": "markdown",
      "source": [
        "19. Explain the use of constructor chaining in Python. Provide a practical example."
      ],
      "metadata": {
        "id": "n1P0fpkKfm1E"
      }
    },
    {
      "cell_type": "code",
      "source": [
        "# Constructor chaining in Python refers to the practice of calling a constructor of a base class (parent class) from the constructor of a derived class (child class). This ensures that the base class is properly initialized before the derived class performs its own initialization. Constructor chaining is achieved using the super() function in Python."
      ],
      "metadata": {
        "id": "AZ0ab0EXfvXw"
      },
      "execution_count": null,
      "outputs": []
    },
    {
      "cell_type": "markdown",
      "source": [
        "20. Create a Python class called `Car` with a default constructor that initializes the `make` and `model`\n",
        "attributes. Provide a method to display car information."
      ],
      "metadata": {
        "id": "NJtaRjzkgAic"
      }
    },
    {
      "cell_type": "code",
      "source": [
        "class car:\n",
        "  def __init__(self,make,model):\n",
        "    self.make=make\n",
        "    self.model=model\n",
        "  def display(self):\n",
        "    print(f\"make:{self.make}\")\n",
        "    print(f\"model:{self.model}\")\n",
        "c=car(\"bmw\",\"x5\")\n",
        "c.display()"
      ],
      "metadata": {
        "colab": {
          "base_uri": "https://localhost:8080/"
        },
        "id": "RXkJCmPSgDF-",
        "outputId": "091083db-f211-4efd-8215-d21f2fefaa3e"
      },
      "execution_count": null,
      "outputs": [
        {
          "output_type": "stream",
          "name": "stdout",
          "text": [
            "make:bmw\n",
            "model:x5\n"
          ]
        }
      ]
    },
    {
      "cell_type": "markdown",
      "source": [
        "# **Inheritance:**\n"
      ],
      "metadata": {
        "id": "gdeE0KnEgS4M"
      }
    },
    {
      "cell_type": "markdown",
      "source": [
        "1. What is inheritance in Python? Explain its significance in object-oriented programming."
      ],
      "metadata": {
        "id": "8pYXhA77gef0"
      }
    },
    {
      "cell_type": "code",
      "source": [
        "\n",
        "# Inheritance in Python is a fundamental concept in object-oriented programming (OOP) that allows one class (called the child or derived class) to inherit the attributes and methods of another class (called the parent or base class). This means that the child class can use, extend, or modify the functionality defined in the parent class."
      ],
      "metadata": {
        "id": "jROCWnSkguv1"
      },
      "execution_count": null,
      "outputs": []
    },
    {
      "cell_type": "markdown",
      "source": [
        "2. Differentiate between single inheritance and multiple inheritance in Python. Provide examples for each."
      ],
      "metadata": {
        "id": "pjK9nR5lg4Nz"
      }
    },
    {
      "cell_type": "code",
      "source": [
        "# # Single inheritance refers to a class inheriting from only one parent class. This is the simplest form of inheritance and is used to extend or modify the functionality of a single base class.\n",
        "# Multiple inheritance allows a class to inherit from more than one parent class. This enables a class to combine and extend the functionality of multiple base classes."
      ],
      "metadata": {
        "id": "h8-NAR-Ag7kD"
      },
      "execution_count": null,
      "outputs": []
    },
    {
      "cell_type": "markdown",
      "source": [
        "3. Create a Python class called `Vehicle` with attributes `color` and `speed`. Then, create a child class called\n",
        "`Car` that inherits from `Vehicle` and adds a `brand` attribute. Provide an example of creating a `Car` object."
      ],
      "metadata": {
        "id": "C2e6WlxYhKBr"
      }
    },
    {
      "cell_type": "code",
      "source": [
        "class vehicle:\n",
        "  def __init__(self,color,speed):\n",
        "    self.color=color\n",
        "    self.speed=speed\n",
        "class car(vehicle):\n",
        "  def __init__(self,color,speed,brand):\n",
        "    super().__init__(color,speed)\n",
        "    self.brand=brand\n",
        "c=car(\"red\",100,\"bmw\")\n",
        "print(c.color)"
      ],
      "metadata": {
        "colab": {
          "base_uri": "https://localhost:8080/"
        },
        "id": "arHxpRlwhNnm",
        "outputId": "3fcd5a0b-792b-41f7-8e05-e701f6d704aa"
      },
      "execution_count": null,
      "outputs": [
        {
          "output_type": "stream",
          "name": "stdout",
          "text": [
            "red\n"
          ]
        }
      ]
    },
    {
      "cell_type": "markdown",
      "source": [
        "4.. Explain the concept of method overriding in inheritance. Provide a practical example."
      ],
      "metadata": {
        "id": "wuMl1sKehdNX"
      }
    },
    {
      "cell_type": "code",
      "source": [
        "# Method overriding in inheritance refers to the ability of a subclass to provide a specific implementation of a method that is already defined in its superclass. When a method in a subclass has the same name, same parameters, and same return type as a method in its superclass, then the method in the subclass is said to override the method in the superclass."
      ],
      "metadata": {
        "id": "WG5gt0v_hzMk"
      },
      "execution_count": null,
      "outputs": []
    },
    {
      "cell_type": "markdown",
      "source": [
        "5. How can you access the methods and attributes of a parent class from a child class in Python? Give an\n",
        "example."
      ],
      "metadata": {
        "id": "GyTWuLx7h2NW"
      }
    },
    {
      "cell_type": "code",
      "source": [
        "# In Python, you can access the methods and attributes of a parent class from a child class using the super() function or by directly referencing the parent class. This allows the child class to extend or modify the behavior of the parent class while still leveraging its functionality."
      ],
      "metadata": {
        "id": "1_8ZBFSWh8w5"
      },
      "execution_count": null,
      "outputs": []
    },
    {
      "cell_type": "markdown",
      "source": [
        "6. Discuss the use of the `super()` function in Python inheritance. When and why is it used? Provide an\n",
        "example."
      ],
      "metadata": {
        "id": "Po2H3F3yiM9X"
      }
    },
    {
      "cell_type": "code",
      "source": [
        "# In Python, the super() function plays a crucial role in inheritance by providing a way to call methods and access attributes from the parent class (superclass) within a subclass. It allows for cooperative method resolution in multiple inheritance scenarios and ensures that classes in the hierarchy can cooperate effectively while maintaining code clarity and flexibility.\n",
        "class Animal:\n",
        "    def __init__(self, name):\n",
        "        self.name = name\n",
        "\n",
        "    def speak(self):\n",
        "        return \"Generic animal sound\"\n",
        "\n",
        "class Dog(Animal):\n",
        "    def __init__(self, name, breed):\n",
        "        super().__init__(name)  # Call superclass's __init__ method\n",
        "        self.breed = breed\n",
        "\n",
        "    def speak(self):\n",
        "        return \"Woof!\"  # Override speak method\n",
        "\n",
        "    def details(self):\n",
        "        return f\"{self.name} is a {self.breed} dog\"\n",
        "\n",
        "# Create an instance of Dog\n",
        "dog = Dog(\"Buddy\", \"Labrador\")\n",
        "\n",
        "# Accessing methods and attributes using super()\n",
        "print(dog.speak())  # Output: Woof! (calls overridden method in Dog class)\n",
        "print(dog.name)     # Output: Buddy (accesses attribute from Animal class via super())\n",
        "print(dog.details())  # Output: Buddy is a Labrador dog (calls method from Dog class)\n"
      ],
      "metadata": {
        "colab": {
          "base_uri": "https://localhost:8080/"
        },
        "id": "eRf8my_xiPJi",
        "outputId": "55570a5e-ddc2-42e1-9c04-2679eae29229"
      },
      "execution_count": null,
      "outputs": [
        {
          "output_type": "stream",
          "name": "stdout",
          "text": [
            "Woof!\n",
            "Buddy\n",
            "Buddy is a Labrador dog\n"
          ]
        }
      ]
    },
    {
      "cell_type": "markdown",
      "source": [
        "7. Create a Python class called `Animal` with a method `speak()`. Then, create child classes `Dog` and `Cat` that inherit from `Animal` and override the `speak()` method. Provide an example of using these classes."
      ],
      "metadata": {
        "id": "C89YLBnriq83"
      }
    },
    {
      "cell_type": "code",
      "source": [
        "class animal:\n",
        "  def speak(self):\n",
        "    print(\"i can speak\")\n",
        "class dog(animal):\n",
        "  def speak(self):\n",
        "    print(\"i can speak like dog\")\n",
        "class cat(animal):\n",
        "  def speak(self):\n",
        "    print(\"i can speak like cat\")\n",
        "\n",
        "a=animal()\n",
        "a.speak()\n",
        "d=dog()\n",
        "d.speak()\n",
        "c=cat()\n",
        "c.speak()"
      ],
      "metadata": {
        "colab": {
          "base_uri": "https://localhost:8080/"
        },
        "id": "HBWdNozPiuOM",
        "outputId": "051c7f03-22f1-45ad-c1cd-a839dbea605c"
      },
      "execution_count": null,
      "outputs": [
        {
          "output_type": "stream",
          "name": "stdout",
          "text": [
            "i can speak\n",
            "i can speak like dog\n",
            "i can speak like cat\n"
          ]
        }
      ]
    },
    {
      "cell_type": "markdown",
      "source": [
        "8. Explain the role of the `isinstance()` function in Python and how it relates to inheritance."
      ],
      "metadata": {
        "id": "GugsFeWti1-b"
      }
    },
    {
      "cell_type": "code",
      "source": [
        "\n",
        "# In Python, the isinstance() function is used to check if an object belongs to a particular class or subclass. It returns True if the object is an instance of the specified class or any of its subclasses, and False otherwise. This function is fundamental for type checking and polymorphism, especially in scenarios involving inheritance.\n",
        "class Animal:\n",
        "    def speak(self):\n",
        "        return \"Generic animal sound\"\n",
        "\n",
        "class Dog(Animal):\n",
        "    def speak(self):\n",
        "        return \"Woof!\"\n",
        "\n",
        "class Cat(Animal):\n",
        "    def speak(self):\n",
        "        return \"Meow!\"\n",
        "\n",
        "# Create instances of Dog and Cat\n",
        "dog = Dog()\n",
        "cat = Cat()\n",
        "\n",
        "# Using isinstance() to check types\n",
        "print(isinstance(dog, Dog))    # Output: True (dog is an instance of Dog)\n",
        "print(isinstance(cat, Cat))    # Output: True (cat is an instance of Cat)\n",
        "print(isinstance(dog, Animal)) # Output: True (dog is also an instance of Animal)\n",
        "print(isinstance(cat, Animal)) # Output: True (cat is also an instance of Animal)\n",
        "\n",
        "# Demonstrating polymorphic behavior\n",
        "def make_sound(animal):\n",
        "    return animal.speak()\n",
        "\n",
        "print(make_sound(dog))  # Output: Woof!\n",
        "print(make_sound(cat))  # Output: Meow!\n"
      ],
      "metadata": {
        "colab": {
          "base_uri": "https://localhost:8080/"
        },
        "id": "Fv1oSgYYi_m0",
        "outputId": "c6fd7270-56c2-4b73-8972-226e3f65a0e1"
      },
      "execution_count": null,
      "outputs": [
        {
          "output_type": "stream",
          "name": "stdout",
          "text": [
            "True\n",
            "True\n",
            "True\n",
            "True\n",
            "Woof!\n",
            "Meow!\n"
          ]
        }
      ]
    },
    {
      "cell_type": "markdown",
      "source": [
        "9. What is the purpose of the `issubclass()` function in Python? Provide an example."
      ],
      "metadata": {
        "id": "iraa_pknjhQ7"
      }
    },
    {
      "cell_type": "code",
      "source": [
        "\n",
        "# In Python, the issubclass() function is used to check whether a given class is a subclass of another class. It returns True if the first argument (the potential subclass) is indeed a subclass of the second argument (the potential superclass), and False otherwise. This function is useful for checking class relationships and inheritance hierarchies."
      ],
      "metadata": {
        "id": "My_vlERJjmIP"
      },
      "execution_count": null,
      "outputs": []
    },
    {
      "cell_type": "markdown",
      "source": [
        "10. Discuss the concept of constructor inheritance in Python. How are constructors inherited in child classes?\n"
      ],
      "metadata": {
        "id": "3sbPgqAdj_TH"
      }
    },
    {
      "cell_type": "code",
      "source": [
        "# In Python, constructor inheritance refers to the mechanism by which a child class (subclass) can inherit and utilize the constructor (the __init__ method) of its parent class (superclass). This allows the child class to initialize inherited attributes and perform additional initialization specific to the child class itself.\n",
        "\n",
        "# Concept of Constructor Inheritance\n",
        "class Animal:\n",
        "    def __init__(self, name):\n",
        "        self.name = name\n",
        "        print(f\"Animal {self.name} initialized\")\n",
        "\n",
        "class Dog(Animal):\n",
        "    def __init__(self, name, breed):\n",
        "        super().__init__(name)  # Call parent class's __init__ method\n",
        "        self.breed = breed\n",
        "        print(f\"Dog {self.name} of breed {self.breed} initialized\")\n",
        "\n",
        "# Creating an instance of Dog\n",
        "dog = Dog(\"Buddy\", \"Labrador\")\n"
      ],
      "metadata": {
        "colab": {
          "base_uri": "https://localhost:8080/"
        },
        "id": "iNZqDDLHkJVN",
        "outputId": "f7e9b82e-4f69-492d-d8a4-5f6094c94cfe"
      },
      "execution_count": null,
      "outputs": [
        {
          "output_type": "stream",
          "name": "stdout",
          "text": [
            "Animal Buddy initialized\n",
            "Dog Buddy of breed Labrador initialized\n"
          ]
        }
      ]
    },
    {
      "cell_type": "markdown",
      "source": [
        "11. Create a Python class called `Shape` with a method `area()` that calculates the area of a shape. Then, create child classes `Circle` and `Rectangle` that inherit from `Shape` and implement the `area()` method\n",
        "accordingly. Provide an example."
      ],
      "metadata": {
        "id": "KWKso0HvHHgu"
      }
    },
    {
      "cell_type": "code",
      "source": [
        "class Shape:\n",
        "    def area(self):\n",
        "        pass\n",
        "\n",
        "class Circle(Shape):\n",
        "    def __init__(self, radius):\n",
        "        self.radius = radius\n",
        "\n",
        "    def area(self):\n",
        "        return 3.14 * self.radius ** 2\n",
        "\n",
        "class Rectangle(Shape):\n",
        "    def __init__(self, length, width):\n",
        "        self.length = length\n",
        "        self.width = width\n",
        "\n",
        "    def area(self):\n",
        "        return self.length * self.width\n",
        "\n",
        "c=Circle(10)\n",
        "print(c.area())\n",
        "r=Rectangle(10,20)\n",
        "print(r.area())"
      ],
      "metadata": {
        "colab": {
          "base_uri": "https://localhost:8080/"
        },
        "id": "NWoJz9raHLZN",
        "outputId": "3efd6ecd-3a1d-4a2c-b281-9d2eada4f5b6"
      },
      "execution_count": null,
      "outputs": [
        {
          "output_type": "stream",
          "name": "stdout",
          "text": [
            "314.0\n",
            "200\n"
          ]
        }
      ]
    },
    {
      "cell_type": "markdown",
      "source": [
        "12. Explain the use of abstract base classes (ABCs) in Python and how they relate to inheritance. Provide an\n",
        "example using the `abc` module."
      ],
      "metadata": {
        "id": "UYQRAiyLIJMh"
      }
    },
    {
      "cell_type": "code",
      "source": [
        "# Abstract Base Classes (ABCs) in Python provide a way to define abstract methods that must be implemented by any subclass. ABCs are a key feature of Python's approach to interfaces and polymorphism, allowing you to define a common API for a set of subclasses.\n",
        "\n",
        "# Use of Abstract Base Classes\n",
        "# Define Interfaces: ABCs allow you to define a blueprint for other classes. Any subclass of an ABC must implement its abstract methods.\n",
        "# Prevent Instantiation: ABCs cannot be instantiated directly. They are designed to be subclassed.\n",
        "# Polymorphism: By using ABCs, you can ensure that subclasses implement certain methods, making it easier to write polymorphic code."
      ],
      "metadata": {
        "id": "1PZRh7luIFlw"
      },
      "execution_count": null,
      "outputs": []
    },
    {
      "cell_type": "markdown",
      "source": [
        "13. How can you prevent a child class from modifying certain attributes or methods inherited from a parent\n",
        "class in Python?"
      ],
      "metadata": {
        "id": "rxjB7sNrI2z_"
      }
    },
    {
      "cell_type": "code",
      "source": [
        "# 1. Using Name Mangling\n",
        "# Python supports name mangling for attributes and methods by prefixing their\n",
        "#  names with double underscores (__). This makes them harder to override or\n",
        "# modify in child classes."
      ],
      "metadata": {
        "id": "un5upYvnI6cd"
      },
      "execution_count": null,
      "outputs": []
    },
    {
      "cell_type": "markdown",
      "source": [
        "14. Create a Python class called `Employee` with attributes `name` and `salary`. Then, create a child class\n",
        "`Manager` that inherits from `Employee` and adds an attribute `department`. Provide an example."
      ],
      "metadata": {
        "id": "TxkW-0JdJlEm"
      }
    },
    {
      "cell_type": "code",
      "source": [
        "class Employee:\n",
        "    def __init__(self, name, salary):\n",
        "        self.name = name\n",
        "        self.salary = salary\n",
        "\n",
        "class Manager(Employee):\n",
        "    def __init__(self, name, salary, department):\n",
        "        super().__init__(name, salary)\n",
        "        self.department = department\n",
        "\n",
        "e=Employee(\"ravi\",10000)\n",
        "print(e.name)\n",
        "print(e.salary)"
      ],
      "metadata": {
        "colab": {
          "base_uri": "https://localhost:8080/"
        },
        "id": "PJV2KDgmJu1s",
        "outputId": "a8ce6327-9e76-4d45-ed3d-9df61dde33eb"
      },
      "execution_count": null,
      "outputs": [
        {
          "output_type": "stream",
          "name": "stdout",
          "text": [
            "ravi\n",
            "10000\n"
          ]
        }
      ]
    },
    {
      "cell_type": "markdown",
      "source": [
        "15. Discuss the concept of method overloading in Python inheritance. How does it differ from method\n",
        "overriding?"
      ],
      "metadata": {
        "id": "1EIqx5DtKFwq"
      }
    },
    {
      "cell_type": "code",
      "source": [
        "# Method overloading refers to the ability to define\n",
        "# multiple methods with the same name but different\n",
        "#  signatures (i.e., different parameters). While many\n",
        "#  languages like Java and C++ support method overloading natively,\n",
        "#   Python does not support it directly. Instead, Python handles this\n",
        "#    concept through default arguments, variable-length arguments, or\n",
        "#    by explicitly checking\n",
        "#  types within the method."
      ],
      "metadata": {
        "id": "4Ce0hQvQKjtW"
      },
      "execution_count": null,
      "outputs": []
    },
    {
      "cell_type": "markdown",
      "source": [
        "16. Explain the purpose of the `__init__()` method in Python inheritance and how it is utilized in child classes.\n"
      ],
      "metadata": {
        "id": "AiHA2TvGLkRQ"
      }
    },
    {
      "cell_type": "code",
      "source": [
        "# The __init__() method in Python, also known as the constructor method, is used for initializing objects. In the context of inheritance, it serves to initialize the attributes of both parent and child classes. Here's a detailed explanation of its purpose and utilization in child classes:\n",
        "\n",
        "# Purpose of __init__() in Python Inheritance\n",
        "# Initialization: The __init__() method initializes the instance variables of an object. In inheritance, it ensures that the attributes of both the parent and child classes are properly initialized.\n",
        "\n",
        "# Attribute Setting: It allows you to set the initial state of an object by defining and initializing its attributes.\n",
        "\n",
        "# Inheritance Chain: It ensures that the initialization logic defined in parent classes is executed, maintaining the inheritance chain and allowing the child classes to build upon the parent class.\n",
        "\n",
        "# Utilization in Child Classes\n",
        "# When a child class inherits from a parent class, the __init__() method of the parent class can be called using the super() function. This ensures that the initialization logic of the parent class is executed before adding any additional initialization logic specific to the child class."
      ],
      "metadata": {
        "id": "1b4O2k_zLopZ"
      },
      "execution_count": null,
      "outputs": []
    },
    {
      "cell_type": "markdown",
      "source": [
        "17. Create a Python class called `Bird` with a method `fly()`. Then, create child classes `Eagle` and `Sparrow` that inherit from `Bird` and implement the `fly()` method differently. Provide an example of using these\n",
        "classes."
      ],
      "metadata": {
        "id": "OY2-nAfLM7qj"
      }
    },
    {
      "cell_type": "code",
      "source": [
        "class bird:\n",
        "  def fly(self):\n",
        "    print(\"i can fly\")\n",
        "class eagle(bird):\n",
        "  def fly(self):\n",
        "    print(\"i can fly with wings\")\n",
        "class sparrow(bird):\n",
        "  def fly(self):\n",
        "    print(\"i can fly with wings\")\n",
        "b=bird()\n",
        "b.fly()\n",
        "e=eagle()\n",
        "e.fly()\n",
        "s=sparrow()\n",
        "s.fly"
      ],
      "metadata": {
        "colab": {
          "base_uri": "https://localhost:8080/",
          "height": 141
        },
        "id": "94VnDFo3NDhH",
        "outputId": "317bf3b1-0d16-48a6-bb3a-b069d136dfe3"
      },
      "execution_count": null,
      "outputs": [
        {
          "output_type": "stream",
          "name": "stdout",
          "text": [
            "i can fly\n",
            "i can fly with wings\n"
          ]
        },
        {
          "output_type": "execute_result",
          "data": {
            "text/plain": [
              "<bound method sparrow.fly of <__main__.sparrow object at 0x7b15c525da20>>"
            ],
            "text/html": [
              "<div style=\"max-width:800px; border: 1px solid var(--colab-border-color);\"><style>\n",
              "      pre.function-repr-contents {\n",
              "        overflow-x: auto;\n",
              "        padding: 8px 12px;\n",
              "        max-height: 500px;\n",
              "      }\n",
              "\n",
              "      pre.function-repr-contents.function-repr-contents-collapsed {\n",
              "        cursor: pointer;\n",
              "        max-height: 100px;\n",
              "      }\n",
              "    </style>\n",
              "    <pre style=\"white-space: initial; background:\n",
              "         var(--colab-secondary-surface-color); padding: 8px 12px;\n",
              "         border-bottom: 1px solid var(--colab-border-color);\"><b>sparrow.fly</b><br/>def fly()</pre><pre class=\"function-repr-contents function-repr-contents-collapsed\" style=\"\"><a class=\"filepath\" style=\"display:none\" href=\"#\">/content/&lt;ipython-input-11-742cb938db99&gt;</a>&lt;no docstring&gt;</pre></div>"
            ]
          },
          "metadata": {},
          "execution_count": 11
        }
      ]
    },
    {
      "cell_type": "markdown",
      "source": [
        "18. What is the \"diamond problem\" in multiple inheritance, and how does Python address it?"
      ],
      "metadata": {
        "id": "j8nq39QRNYHp"
      }
    },
    {
      "cell_type": "code",
      "source": [
        "# # The \"diamond problem\" occurs in multiple inheritance when a class inherits from\n",
        "# two classes that both inherit from a single base class. This creates an ambiguity\n",
        "# in the inheritance hierarchy, as it is unclear which path should be taken to inherit\n",
        "# properties and methods from the base class."
      ],
      "metadata": {
        "id": "afSIbhZIRsr2"
      },
      "execution_count": null,
      "outputs": []
    },
    {
      "cell_type": "markdown",
      "source": [
        "19. Discuss the concept of \"is-a\" and \"has-a\" relationships in inheritance, and provide examples of each"
      ],
      "metadata": {
        "id": "JfVd9-OIR-Dq"
      }
    },
    {
      "cell_type": "code",
      "source": [
        "# \"Is-a\" (Inheritance):\n",
        "# Describes a hierarchical relationship.\n",
        "# Used when a subclass needs to inherit attributes and methods from a superclass.\n",
        "# Promotes code reuse and polymorphism.\n",
        "# \"Has-a\" (Composition):\n",
        "# Describes a part-whole relationship.\n",
        "# Used when a class contains one or more objects from other classes.\n",
        "# Promotes encapsulation and flexibility in design.\n"
      ],
      "metadata": {
        "id": "DATIHWG1SEyH"
      },
      "execution_count": null,
      "outputs": []
    },
    {
      "cell_type": "markdown",
      "source": [
        "20. Create a Python class hierarchy for a university system. Start with a base class `Person` and create child\n",
        "classes `Student` and `Professor`, each with their own attributes and methods. Provide an example of using\n",
        "these classes in a university context."
      ],
      "metadata": {
        "id": "snUb1iZYTN70"
      }
    },
    {
      "cell_type": "code",
      "source": [
        "class Person:\n",
        "    def __init__(self, name, age):\n",
        "        self.name = name\n",
        "        self.age = age\n",
        "\n",
        "    def get_details(self):\n",
        "        return f\"Name: {self.name}, Age: {self.age}\"\n",
        "\n",
        "class Student(Person):\n",
        "    def __init__(self, name, age, student_id, major):\n",
        "        super().__init__(name, age)\n",
        "        self.student_id = student_id\n",
        "        self.major = major\n",
        "\n",
        "    def get_details(self):\n",
        "        return f\"Name: {self.name}, Age: {self.age}, Student ID: {self.student_id}, Major: {self.major}\"\n",
        "\n",
        "    def study(self):\n",
        "        return f\"{self.name} is studying {self.major}.\"\n",
        "\n",
        "class Professor(Person):\n",
        "    def __init__(self, name, age, employee_id, department):\n",
        "        super().__init__(name, age)\n",
        "        self.employee_id = employee_id\n",
        "        self.department = department\n",
        "\n",
        "    def get_details(self):\n",
        "        return f\"Name: {self.name}, Age: {self.age}, Employee ID: {self.employee_id}, Department: {self.department}\"\n",
        "\n",
        "    def teach(self):\n",
        "        return f\"Professor {self.name} is teaching in the {self.department} department.\"\n",
        "\n",
        "\n",
        "# Creating a Student instance\n",
        "student = Student(name=\"Alice\", age=20, student_id=\"S12345\", major=\"Computer Science\")\n",
        "\n",
        "# Creating a Professor instance\n",
        "professor = Professor(name=\"Dr. Smith\", age=45, employee_id=\"P67890\", department=\"Computer Science\")\n",
        "\n",
        "# Printing details and actions\n",
        "print(student.get_details())\n",
        "print(student.study())\n",
        "\n",
        "print(professor.get_details())\n",
        "print(professor.teach())\n",
        "\n",
        "\n"
      ],
      "metadata": {
        "colab": {
          "base_uri": "https://localhost:8080/"
        },
        "id": "DEKCahjyTRfb",
        "outputId": "f4548374-0620-4e9c-e7a2-779fec24c317"
      },
      "execution_count": null,
      "outputs": [
        {
          "output_type": "stream",
          "name": "stdout",
          "text": [
            "Name: Alice, Age: 20, Student ID: S12345, Major: Computer Science\n",
            "Alice is studying Computer Science.\n",
            "Name: Dr. Smith, Age: 45, Employee ID: P67890, Department: Computer Science\n",
            "Professor Dr. Smith is teaching in the Computer Science department.\n"
          ]
        }
      ]
    },
    {
      "cell_type": "code",
      "source": [],
      "metadata": {
        "id": "PyihpJqlU5oC"
      },
      "execution_count": null,
      "outputs": []
    },
    {
      "cell_type": "markdown",
      "source": [
        "# **Encapsulation:**\n"
      ],
      "metadata": {
        "id": "WP1VZt8vU_ro"
      }
    },
    {
      "cell_type": "markdown",
      "source": [
        "1. Explain the concept of encapsulation in Python. What is its role in object-oriented programming?"
      ],
      "metadata": {
        "id": "WW66P4pVk4vK"
      }
    },
    {
      "cell_type": "code",
      "source": [
        "# Encapsulation is one of the fundamental concepts in object-oriented programming (OOP) that emphasizes bundling data (attributes) and methods (functions) that operate on the data into a single unit called a class. It enables data hiding by restricting access to some of an object's components, which helps in preventing accidental modification of data, ensuring data integrity, and promoting secure and controlled interaction with objects."
      ],
      "metadata": {
        "id": "ZpKb-eSny_l6"
      },
      "execution_count": null,
      "outputs": []
    },
    {
      "cell_type": "markdown",
      "source": [
        "2. Describe the key principles of encapsulation, including access control and data hiding."
      ],
      "metadata": {
        "id": "VRKnXadyy1uY"
      }
    },
    {
      "cell_type": "code",
      "source": [
        "# Access Control:\n",
        "\n",
        "# Defines how the attributes and methods of a class can be accessed by code outside the class.\n",
        "# Public: Accessible from anywhere, both within the class and externally.\n",
        "# Private: Accessible only from within the same class. In Python, achieved using the __ prefix.\n",
        "# Protected: Accessible within the same class and its subclasses.\n",
        "# Data Hiding:\n",
        "\n",
        "# Involves restricting direct access to certain attributes or methods of a class, typically through private or protected access modifiers.\n",
        "# Encourages interaction with class members through well-defined interfaces (public methods), promoting encapsulation.\n",
        "# Enhances security by preventing unintended modification or misuse of internal state."
      ],
      "metadata": {
        "id": "8yuhEg83zD2E"
      },
      "execution_count": null,
      "outputs": []
    },
    {
      "cell_type": "markdown",
      "source": [
        "3. How can you achieve encapsulation in Python classes? Provide an example"
      ],
      "metadata": {
        "id": "LQQA3roIzU19"
      }
    },
    {
      "cell_type": "code",
      "source": [
        "# Encapsulation in Python is achieved by restricting access to certain attributes and methods of a class to prevent direct modification from outside the class. This is typically done by using private and protected members."
      ],
      "metadata": {
        "id": "wWQGr-wEzXMK"
      },
      "execution_count": null,
      "outputs": []
    },
    {
      "cell_type": "markdown",
      "source": [
        "4. Discuss the difference between public, private, and protected access modifiers in Python."
      ],
      "metadata": {
        "id": "-S7FjlLk8s5v"
      }
    },
    {
      "cell_type": "code",
      "source": [
        "# Public:\n",
        "\n",
        "# Definition: Attributes and methods that are accessible from any part of the program.\n",
        "# Naming: No special prefix (e.g., attribute).\n",
        "# Example: self.name\n",
        "# Protected:\n",
        "\n",
        "# Definition: Attributes and methods intended to be accessible only within the class and its subclasses, though not strictly enforced.\n",
        "# Naming: Single underscore prefix (e.g., _attribute).\n",
        "# Example: self._age\n",
        "# Convention: Indicates that the attribute or method should be treated as non-public.\n",
        "# Private:\n",
        "\n",
        "# Definition: Attributes and methods intended to be accessible only within the class itself.\n",
        "# Naming: Double underscore prefix (e.g., __attribute).\n",
        "# Example: self.__salary\n",
        "# Mechanism: Name mangling (the interpreter changes the name of the attribute in a way that makes it harder to create subclasses that accidentally override the private attributes and methods).\n",
        "class MyClass:\n",
        "    def __init__(self):\n",
        "        self.public = \"I am public\"\n",
        "        self._protected = \"I am protected\"\n",
        "        self.__private = \"I am private\"\n",
        "\n",
        "    def get_private(self):\n",
        "        return self.__private\n",
        "\n",
        "obj = MyClass()\n",
        "print(obj.public)       # Accessible\n",
        "print(obj._protected)   # Accessible but discouraged\n",
        "print(obj.get_private()) # Accessible through a public method\n",
        "# print(obj.__private)  # Raises AttributeError\n",
        "print(obj._MyClass__private)  # Accessible but discouraged (name mangling)\n"
      ],
      "metadata": {
        "colab": {
          "base_uri": "https://localhost:8080/"
        },
        "id": "uWzYpVEB82lQ",
        "outputId": "71b7b8a1-569e-4477-ed19-9c5085ea744a"
      },
      "execution_count": null,
      "outputs": [
        {
          "output_type": "stream",
          "name": "stdout",
          "text": [
            "I am public\n",
            "I am protected\n",
            "I am private\n",
            "I am private\n"
          ]
        }
      ]
    },
    {
      "cell_type": "markdown",
      "source": [
        "5. Create a Python class called `Person` with a private attribute `__name`. Provide methods to get and set the\n",
        "name attribute."
      ],
      "metadata": {
        "id": "ouYdN5T69yF3"
      }
    },
    {
      "cell_type": "code",
      "source": [
        "class person:\n",
        "  def __init__(self,name):\n",
        "    self.__name=name\n",
        "  def getname(self):\n",
        "    return self.__name\n",
        "  def setname(self,name):\n",
        "    self.__name=name\n",
        "\n",
        "p=person(\"ravi\")\n",
        "print(p.getname())\n",
        "p.setname(\"uday\")\n",
        "print(p.getname())"
      ],
      "metadata": {
        "colab": {
          "base_uri": "https://localhost:8080/"
        },
        "id": "8q-Q3o3P-Blh",
        "outputId": "0e96f7ad-5959-4d73-863d-4ab201ed803a"
      },
      "execution_count": null,
      "outputs": [
        {
          "output_type": "stream",
          "name": "stdout",
          "text": [
            "ravi\n",
            "uday\n"
          ]
        }
      ]
    },
    {
      "cell_type": "markdown",
      "source": [
        "6. Explain the purpose of getter and setter methods in encapsulation. Provide examples."
      ],
      "metadata": {
        "id": "hB0czeMo-0pR"
      }
    },
    {
      "cell_type": "code",
      "source": [
        "# The purpose of getter and setter methods in encapsulation is to provide controlled access to the attributes of a class. By using these methods, you can enforce rules, validation, and logic when getting or setting attribute values, which helps maintain the integrity and consistency of the data. This practice also hides the internal representation of the object from the outside, adhering to the principle of encapsulation."
      ],
      "metadata": {
        "id": "RSXICaA3_RaU"
      },
      "execution_count": null,
      "outputs": []
    },
    {
      "cell_type": "markdown",
      "source": [
        "7. What is name mangling in Python, and how does it affect encapsulation?\n"
      ],
      "metadata": {
        "id": "BNNdv-TU-8XG"
      }
    },
    {
      "cell_type": "code",
      "source": [
        "# Name mangling in Python is a mechanism used to make private attributes and methods (those prefixed with double underscores __) less accessible from outside the class. This helps in implementing encapsulation by preventing accidental modification or access to these members from outside the class, though it is not a strict enforcement."
      ],
      "metadata": {
        "id": "KRFGQ82T_pRE"
      },
      "execution_count": null,
      "outputs": []
    },
    {
      "cell_type": "markdown",
      "source": [
        "8. Create a Python class called `BankAccount` with private attributes for the account balance (`__balance`) and account number (`__account_number`). Provide methods for depositing and withdrawing money"
      ],
      "metadata": {
        "id": "zkdkWhCN_n8A"
      }
    },
    {
      "cell_type": "code",
      "source": [
        "class banckaccount:\n",
        "  def __init__(self,balance,account_number):\n",
        "    self.__balance=balance\n",
        "    self.__account_number=account_number\n",
        "  def deposit(self,amount):\n",
        "    self.__balance+=amount\n",
        "  def withdraw(self,amount):\n",
        "    if self.__balance>=amount:\n",
        "      self.__balance-=amount\n",
        "    else:\n",
        "      print(\"insufficient balance\")\n",
        "  def get_balance(self):\n",
        "    return self.__balance\n",
        "\n",
        "  def get_account_number(self):\n",
        "    return self.__account_number\n",
        "b=banckaccount(1000,12345)\n",
        "b.deposit(500)\n",
        "b.withdraw(200)\n",
        "print(b.get_balance())\n",
        "print(b.get_account_number())"
      ],
      "metadata": {
        "colab": {
          "base_uri": "https://localhost:8080/"
        },
        "id": "1pHnzg_e_67S",
        "outputId": "7d5e82d7-489a-4496-f9ba-db539652d255"
      },
      "execution_count": null,
      "outputs": [
        {
          "output_type": "stream",
          "name": "stdout",
          "text": [
            "1300\n",
            "12345\n"
          ]
        }
      ]
    },
    {
      "cell_type": "markdown",
      "source": [
        "9. Discuss the advantages of encapsulation in terms of code maintainability and security."
      ],
      "metadata": {
        "id": "JJ2t2V6oA173"
      }
    },
    {
      "cell_type": "code",
      "source": [
        "# Advantages of Encapsulation\n",
        "# Code Maintainability\n",
        "# Modularity: Encapsulation allows you to create modular code where each class handles specific tasks. This modularity makes it easier to understand, maintain, and update the code, as changes in one class are less likely to affect other parts of the program.\n",
        "\n",
        "# Code Reusability: Encapsulated classes can be reused in different parts of the program or in different projects without needing to understand their internal implementation. This promotes code reuse and reduces redundancy.\n",
        "\n",
        "# Ease of Debugging: When bugs occur, it’s easier to locate and fix them within encapsulated classes. Since the internal implementation details are hidden, you can focus on the public interface and ensure that it behaves as expected.\n",
        "\n",
        "# Isolation of Changes: If you need to change the internal implementation of a class, you can do so without affecting other parts of the program that use the class. This isolation of changes minimizes the risk of introducing new bugs when updating the code.\n",
        "\n",
        "# Security\n",
        "# Controlled Access: Encapsulation restricts access to certain parts of an object, ensuring that data cannot be modified directly from outside the class. This controlled access prevents accidental or unauthorized changes to the internal state of the object.\n",
        "\n",
        "# Data Integrity: By using getters and setters, you can add validation logic to ensure that only valid data is assigned to the attributes. This helps maintain data integrity and prevents invalid data from corrupting the internal state.\n",
        "\n",
        "# Protection of Sensitive Data: Encapsulation allows you to protect sensitive data by keeping it private. Only authorized methods within the class can access and modify this data, reducing the risk of accidental exposure or tampering.\n",
        "\n",
        "# Prevention of Inconsistent States: By controlling how attributes are accessed and modified, you can prevent the object from entering an inconsistent or invalid state. This ensures that the object always remains in a valid state throughout its lifecycle.\n",
        "\n"
      ],
      "metadata": {
        "id": "YSP0NawyA9UY"
      },
      "execution_count": null,
      "outputs": []
    },
    {
      "cell_type": "markdown",
      "source": [
        "10. How can you access private attributes in Python? Provide an example demonstrating the use of name\n",
        "mangling"
      ],
      "metadata": {
        "id": "1vHpfc3vBNVM"
      }
    },
    {
      "cell_type": "code",
      "source": [
        "# In Python, private attributes (those prefixed with double underscores __) are not accessible directly from outside the class due to name mangling. However, they can still be accessed using the mangled name, which includes the class name as a prefix.\n",
        "class MyClass:\n",
        "    def __init__(self, value):\n",
        "        self.__value = value  # Private attribute\n",
        "\n",
        "    def get_value(self):\n",
        "        return self.__value\n",
        "\n",
        "    def set_value(self, value):\n",
        "        self.__value = value\n",
        "\n",
        "# Creating an instance of MyClass\n",
        "obj = MyClass(42)\n",
        "\n",
        "# Accessing the private attribute through a public method\n",
        "print(obj.get_value())  # Output: 42\n",
        "\n",
        "# Attempting to access the private attribute directly (will raise an AttributeError)\n",
        "# print(obj.__value)  # Uncommenting this line will raise an AttributeError\n",
        "\n",
        "# Accessing the private attribute using the mangled name\n",
        "print(obj._MyClass__value)  # Output: 42\n",
        "\n",
        "# Modifying the private attribute using the mangled name\n",
        "obj._MyClass__value = 100\n",
        "print(obj.get_value())  # Output: 100\n"
      ],
      "metadata": {
        "colab": {
          "base_uri": "https://localhost:8080/"
        },
        "id": "mJykgx-gBQxl",
        "outputId": "31c1461c-ddbf-4aeb-b03b-6b328bad8432"
      },
      "execution_count": null,
      "outputs": [
        {
          "output_type": "stream",
          "name": "stdout",
          "text": [
            "42\n",
            "42\n",
            "100\n"
          ]
        }
      ]
    },
    {
      "cell_type": "markdown",
      "source": [
        "11. Create a Python class hierarchy for a school system, including classes for students, teachers, and courses,\n",
        "and implement encapsulation principles to protect sensitive information"
      ],
      "metadata": {
        "id": "zSXTglMYB3qQ"
      }
    },
    {
      "cell_type": "code",
      "source": [
        "class Person:\n",
        "    def __init__(self, name, age):\n",
        "        self.__name = name  # Private attribute\n",
        "        self.__age = age    # Private attribute\n",
        "\n",
        "    def get_name(self):\n",
        "        return self.__name\n",
        "\n",
        "    def set_name(self, name):\n",
        "        if isinstance(name, str) and name.strip():\n",
        "            self.__name = name\n",
        "        else:\n",
        "            raise ValueError(\"Name must be a non-empty string\")\n",
        "\n",
        "    def get_age(self):\n",
        "        return self.__age\n",
        "\n",
        "    def set_age(self, age):\n",
        "        if isinstance(age, int) and age > 0:\n",
        "            self.__age = age\n",
        "        else:\n",
        "            raise ValueError(\"Age must be a positive integer\")\n",
        "\n",
        "class Student(Person):\n",
        "    def __init__(self, name, age, student_id):\n",
        "        super().__init__(name, age)\n",
        "        self.__student_id = student_id  # Private attribute\n",
        "        self.__courses = []  # Private attribute\n",
        "\n",
        "    def get_student_id(self):\n",
        "        return self.__student_id\n",
        "\n",
        "    def enroll_in_course(self, course):\n",
        "        self.__courses.append(course)\n",
        "\n",
        "    def get_courses(self):\n",
        "        return self.__courses\n",
        "\n",
        "class Teacher(Person):\n",
        "    def __init__(self, name, age, employee_id):\n",
        "        super().__init__(name, age)\n",
        "        self.__employee_id = employee_id  # Private attribute\n",
        "        self.__courses = []  # Private attribute\n",
        "\n",
        "    def get_employee_id(self):\n",
        "        return self.__employee_id\n",
        "\n",
        "    def assign_course(self, course):\n",
        "        self.__courses.append(course)\n",
        "\n",
        "    def get_courses(self):\n",
        "        return self.__courses\n",
        "\n",
        "class Course:\n",
        "    def __init__(self, course_name, course_code):\n",
        "        self.__course_name = course_name  # Private attribute\n",
        "        self.__course_code = course_code  # Private attribute\n",
        "        self.__students = []  # Private attribute\n",
        "        self.__teacher = None  # Private attribute\n",
        "\n",
        "    def get_course_name(self):\n",
        "        return self.__course_name\n",
        "\n",
        "    def get_course_code(self):\n",
        "        return self.__course_code\n",
        "\n",
        "    def enroll_student(self, student):\n",
        "        if student not in self.__students:\n",
        "            self.__students.append(student)\n",
        "            student.enroll_in_course(self)\n",
        "\n",
        "    def assign_teacher(self, teacher):\n",
        "        self.__teacher = teacher\n",
        "        teacher.assign_course(self)\n",
        "\n",
        "    def get_students(self):\n",
        "        return self.__students\n",
        "\n",
        "    def get_teacher(self):\n",
        "        return self.__teacher\n",
        "\n",
        "# Example usage\n",
        "# Creating students\n",
        "student1 = Student(\"Alice\", 20, \"S12345\")\n",
        "student2 = Student(\"Bob\", 22, \"S67890\")\n",
        "\n",
        "# Creating teacher\n",
        "teacher = Teacher(\"Dr. Smith\", 40, \"T98765\")\n",
        "\n",
        "# Creating course\n",
        "course = Course(\"Introduction to Python\", \"CS101\")\n",
        "\n",
        "# Enrolling students in the course\n",
        "course.enroll_student(student1)\n",
        "course.enroll_student(student2)\n",
        "\n",
        "# Assigning teacher to the course\n",
        "course.assign_teacher(teacher)\n",
        "\n",
        "# Checking course details\n",
        "print(course.get_course_name())  # Output: Introduction to Python\n",
        "print(course.get_course_code())  # Output: CS101\n",
        "\n",
        "# Checking students enrolled in the course\n",
        "for student in course.get_students():\n",
        "    print(student.get_name())  # Output: Alice, Bob\n",
        "\n",
        "# Checking teacher assigned to the course\n",
        "print(course.get_teacher().get_name())  # Output: Dr. Smith\n"
      ],
      "metadata": {
        "colab": {
          "base_uri": "https://localhost:8080/"
        },
        "id": "ZdKYgn10B-i-",
        "outputId": "a6586252-15fb-4b42-f619-5bc3c7b950d4"
      },
      "execution_count": null,
      "outputs": [
        {
          "output_type": "stream",
          "name": "stdout",
          "text": [
            "Introduction to Python\n",
            "CS101\n",
            "Alice\n",
            "Bob\n",
            "Dr. Smith\n"
          ]
        }
      ]
    },
    {
      "cell_type": "markdown",
      "source": [
        "12. Explain the concept of property decorators in Python and how they relate to encapsulation.\n"
      ],
      "metadata": {
        "id": "OlBkb4AOCbz0"
      }
    },
    {
      "cell_type": "code",
      "source": [
        "# Property decorators in Python are a feature that allows for managed attributes, enabling controlled access to instance attributes while maintaining the simplicity of attribute access syntax. They are particularly useful in the context of encapsulation, as they allow the internal implementation of an attribute to be hidden from the users of the class, providing a clean interface."
      ],
      "metadata": {
        "id": "So4PNU1jCe_3"
      },
      "execution_count": null,
      "outputs": []
    },
    {
      "cell_type": "markdown",
      "source": [
        "13. What is data hiding, and why is it important in encapsulation? Provide examples."
      ],
      "metadata": {
        "id": "axOB_-_nC2He"
      }
    },
    {
      "cell_type": "code",
      "source": [
        "\n",
        "# Data hiding is a concept in object-oriented programming that refers to the practice of restricting access to certain parts of an object's data to ensure that only the essential information is exposed to other parts of the program. This is typically achieved by making attributes private or protected, thereby preventing direct access from outside the class. Data hiding is crucial in encapsulation because it helps enforce the principle of information hiding and ensures that the internal state of an object is accessed and modified only through controlled interfaces (e.g., methods)"
      ],
      "metadata": {
        "id": "s2o-dUh6C_AA"
      },
      "execution_count": null,
      "outputs": []
    },
    {
      "cell_type": "markdown",
      "source": [
        "14. Create a Python class called `Employee` with private attributes for salary (`__salary`) and employee ID (`__employee_id`). Provide a method to calculate yearly bonuses."
      ],
      "metadata": {
        "id": "zcB7AXQnDH5U"
      }
    },
    {
      "cell_type": "code",
      "source": [
        "class employee:\n",
        "  def __init__(self,salary,employee_id):\n",
        "    self.__salary=salary\n",
        "    self.__employee_id=employee_id\n",
        "  def calculate_bonus(self):\n",
        "    return self.__salary*12\n",
        "\n",
        "  def get_salary(self):\n",
        "    return self.__salary\n",
        "  def get_employee_id(self):\n",
        "    return self.__employee_id\n",
        "e=employee(10000,12345)\n",
        "\n",
        "print(e.calculate_bonus())\n",
        "print(e.get_salary())\n",
        "print(e.get_employee_id())\n"
      ],
      "metadata": {
        "colab": {
          "base_uri": "https://localhost:8080/"
        },
        "id": "9xL7E_2XDK88",
        "outputId": "517aedec-fb79-4b6d-9f35-08ed5f423c67"
      },
      "execution_count": null,
      "outputs": [
        {
          "output_type": "stream",
          "name": "stdout",
          "text": [
            "120000\n",
            "10000\n",
            "12345\n"
          ]
        }
      ]
    },
    {
      "cell_type": "markdown",
      "source": [
        "15. Discuss the use of accessors and mutators in encapsulation. How do they help maintain control over\n",
        "attribute access?"
      ],
      "metadata": {
        "id": "GeE1njtBDnHk"
      }
    },
    {
      "cell_type": "code",
      "source": [
        "# Accessors and mutators are methods used in encapsulation to control access to the attributes of a class. They are commonly known as getters and setters, respectively, and they play a crucial role in maintaining control over how attributes are accessed and modified."
      ],
      "metadata": {
        "id": "As_ImdFWDqz-"
      },
      "execution_count": null,
      "outputs": []
    },
    {
      "cell_type": "markdown",
      "source": [
        "16. What are the potential drawbacks or disadvantages of using encapsulation in Python?"
      ],
      "metadata": {
        "id": "zL_9aUJvELu8"
      }
    },
    {
      "cell_type": "code",
      "source": [
        "# While encapsulation offers numerous benefits in Python programming, such as improved code organization, enhanced security, and controlled access to class attributes, there are also potential drawbacks or disadvantages to consider:"
      ],
      "metadata": {
        "id": "LC8jNCF1EN2v"
      },
      "execution_count": null,
      "outputs": []
    },
    {
      "cell_type": "markdown",
      "source": [
        "17. Create a Python class for a library system that encapsulates book information, including titles, authors,\n",
        "and availability status."
      ],
      "metadata": {
        "id": "asd3-S-HFcM1"
      }
    },
    {
      "cell_type": "code",
      "source": [
        "class library:\n",
        "  def __init__(self,book_name,author_name,availability):\n",
        "    self.__book_name=book_name\n",
        "    self.__author_name=author_name\n",
        "    self.__availability=availability\n",
        "  def get_book_name(self):\n",
        "    return self.__book_name\n",
        "  def get_author_name(self):\n",
        "    return self.__author_name\n",
        "  def get_availability(self):\n",
        "    return self.__availability\n",
        "l=library(\"python\",\"uday\",True)\n",
        "print(l.get_book_name())\n",
        "print(l.get_author_name())\n",
        "print(l.get_availability())"
      ],
      "metadata": {
        "colab": {
          "base_uri": "https://localhost:8080/"
        },
        "id": "CH3TD58CFfCm",
        "outputId": "1b936ddb-23e4-4aad-acf1-2f893a2327dc"
      },
      "execution_count": null,
      "outputs": [
        {
          "output_type": "stream",
          "name": "stdout",
          "text": [
            "python\n",
            "uday\n",
            "True\n"
          ]
        }
      ]
    },
    {
      "cell_type": "markdown",
      "source": [
        "18. Explain how encapsulation enhances code reusability and modularity in Python programs.\n"
      ],
      "metadata": {
        "id": "sxeHKfxEFz6u"
      }
    },
    {
      "cell_type": "code",
      "source": [
        "# Encapsulation enhances code reusability and modularity in Python programs primarily through its ability to package data (attributes) and functionality (methods) into cohesive units known as classes. Here’s how encapsulation achieves this:\n",
        "\n",
        "# Code Reusability\n",
        "# Encapsulation promotes code reusability by encapsulating related data and behavior into a single unit (class). This encapsulated unit can then be reused across different parts of a program or even across multiple projects without needing to understand its internal implementation details. Here’s how encapsulation supports code reusability:\n",
        "\n",
        "# Class Interface: Encapsulation defines a clear interface for interacting with objects. Users of the class only need to understand the public methods and properties provided by the class, not how those methods are implemented internally.\n",
        "\n",
        "# Inheritance: Encapsulation supports inheritance, allowing subclasses to inherit attributes and methods from a base class. This promotes code reuse by allowing subclasses to extend or specialize the behavior of the base class without duplicating code.\n",
        "\n",
        "# Composition: Encapsulation facilitates composition, where objects of one class can contain references to objects of another class as part of their state. This promotes building complex systems by combining smaller, reusable components.\n",
        "\n",
        "# Modularity\n",
        "# Encapsulation enhances modularity by encapsulating related functionality into self-contained units (classes) that can be developed, tested, and maintained independently. Modularity in Python programs is improved in the following ways:\n",
        "\n",
        "# Separation of Concerns: Encapsulation allows developers to focus on defining and implementing a specific class with well-defined responsibilities. This separation of concerns simplifies code maintenance and debugging.\n",
        "\n",
        "# Dependency Management: Encapsulation helps manage dependencies between different parts of the program. Each class encapsulates its own state and behavior, reducing interdependencies and promoting loose coupling between classes.\n",
        "\n",
        "# Ease of Maintenance: Encapsulated classes are easier to maintain because changes made to one class are less likely to impact other parts of the program. This isolation of changes improves the overall maintainability of the codebase."
      ],
      "metadata": {
        "id": "shR3s3xtF2oN"
      },
      "execution_count": null,
      "outputs": []
    },
    {
      "cell_type": "markdown",
      "source": [
        "19. Describe the concept of information hiding in encapsulation. Why is it essential in software development?\n"
      ],
      "metadata": {
        "id": "WQcQYAM6Gug6"
      }
    },
    {
      "cell_type": "code",
      "source": [
        "# Information hiding is a principle in software engineering and object-oriented programming that emphasizes restricting access to certain components or details of a system's implementation, typically internal data structures and methods. It aims to enforce encapsulation by hiding the complex implementation details and exposing only the necessary interfaces or abstractions to interact with those components."
      ],
      "metadata": {
        "id": "9bp1D5mIG0zR"
      },
      "execution_count": null,
      "outputs": []
    },
    {
      "cell_type": "markdown",
      "source": [
        "20. Create a Python class called `Customer` with private attributes for customer details like name, address,\n",
        "and contact information. Implement encapsulation to ensure data integrity and security."
      ],
      "metadata": {
        "id": "AWgmeelsG_35"
      }
    },
    {
      "cell_type": "code",
      "source": [
        "class Customer:\n",
        "  def __init__(self,name,address,contact):\n",
        "    self.__name=name\n",
        "    self.__address=address\n",
        "    self.__contact=contact\n",
        "  def get_name(self):\n",
        "    return self.__name\n",
        "  def get_address(self):\n",
        "    return self.__address\n",
        "  def get_contact(self):\n",
        "    return self.__contact\n",
        "c=Customer(\"uday\",\"hyderabad\",1234567890)\n",
        "print(c.get_name())\n",
        "print(c.get_address())\n",
        "print(c.get_contact())"
      ],
      "metadata": {
        "colab": {
          "base_uri": "https://localhost:8080/"
        },
        "id": "p31KQWG_HB8h",
        "outputId": "1ff6c2c4-1e64-456c-dfa3-ac13aafb1e45"
      },
      "execution_count": null,
      "outputs": [
        {
          "output_type": "stream",
          "name": "stdout",
          "text": [
            "uday\n",
            "hyderabad\n",
            "1234567890\n"
          ]
        }
      ]
    },
    {
      "cell_type": "markdown",
      "source": [
        "## **Polymorphism:**\n"
      ],
      "metadata": {
        "id": "9F-hhOGdHn_c"
      }
    },
    {
      "cell_type": "markdown",
      "source": [
        "1. What is polymorphism in Python? Explain how it is related to object-oriented programming."
      ],
      "metadata": {
        "id": "MMBN7KXPHsb3"
      }
    },
    {
      "cell_type": "code",
      "source": [
        "# Polymorphism in Python refers to the ability of different objects to respond to the same method or function call in different ways. Specifically, it allows objects of different classes to be treated as objects of a common superclass. This concept is closely related to object-oriented programming (OOP) and is one of the key principles of OOP, along with encapsulation, inheritance, and abstraction."
      ],
      "metadata": {
        "id": "sfkpJ-TLHsDm"
      },
      "execution_count": null,
      "outputs": []
    },
    {
      "cell_type": "markdown",
      "source": [
        "2. Describe the difference between compile-time polymorphism and runtime polymorphism in Python."
      ],
      "metadata": {
        "id": "yp1-4Jc7JXuc"
      }
    },
    {
      "cell_type": "code",
      "source": [
        "# # Compile-Time Polymorphism:\n",
        "# # Compile-time polymorphism, also known as static polymorphism or early binding, refers to polymorphic behavior that is resolved during compile time. In Python, since it is an interpreted language and does not involve traditional compilation to machine code, compile-time polymorphism is less distinct compared to statically typed languages like C++ or Java. However, the concept can still be understood in the context of method overloading using function signatures.\n",
        "\n",
        "# # Method Overloading: In some languages (not natively supported in Python), you can define multiple methods with the same name but different parameters or types. The method to be called is determined based on the number and types of arguments passed during compilation (or interpretation in Python's case).\n",
        "# Runtime Polymorphism:\n",
        "# Runtime polymorphism, also known as dynamic polymorphism or late binding, refers to polymorphic behavior that is resolved during runtime. In Python, runtime polymorphism is primarily achieved through method overriding, where a subclass provides a specific implementation of a method that is already defined in its superclass.\n",
        "\n",
        "# Method Overriding: Subclasses can provide a specific implementation of a method that is already defined in its superclass. The method to be executed is determined at runtime based on the object's type."
      ],
      "metadata": {
        "id": "UcUtnrJQJaJR"
      },
      "execution_count": null,
      "outputs": []
    },
    {
      "cell_type": "markdown",
      "source": [
        "3. Create a Python class hierarchy for shapes (e.g., circle, square, triangle) and demonstrate polymorphism\n",
        " through a common method, such as `calculate_area()`."
      ],
      "metadata": {
        "id": "pnH1C2-1KFMH"
      }
    },
    {
      "cell_type": "code",
      "source": [
        "class shape:\n",
        "  def calculate_area(self):\n",
        "    pass\n",
        "class circle(shape):\n",
        "  def __init__(self,radius):\n",
        "    self.radius=radius\n",
        "  def calculate_area(self):\n",
        "    return 3.14*self.radius*self.radius\n",
        "class square(shape):\n",
        "  def __init__(self,side):\n",
        "    self.side=side\n",
        "  def calculate_area(self):\n",
        "    return self.side*self.side\n",
        "class triangle(shape):\n",
        "  def __init__(self,base,height):\n",
        "    self.base=base\n",
        "    self.height=height\n",
        "  def calculate_area(self):\n",
        "    return 0.5*self.base*self.height\n",
        "s=shape()\n",
        "c=circle(5)\n",
        "sq=square(5)\n",
        "t=triangle(5,5)\n",
        "\n",
        "print(c.calculate_area())\n",
        "print(sq.calculate_area())\n",
        "print(t.calculate_area())"
      ],
      "metadata": {
        "colab": {
          "base_uri": "https://localhost:8080/"
        },
        "id": "mHn1ZCtNKI3A",
        "outputId": "044e70b6-4f78-4e42-b5e8-2261c8ee52b2"
      },
      "execution_count": null,
      "outputs": [
        {
          "output_type": "stream",
          "name": "stdout",
          "text": [
            "78.5\n",
            "25\n",
            "12.5\n"
          ]
        }
      ]
    },
    {
      "cell_type": "markdown",
      "source": [
        "4. Explain the concept of method overriding in polymorphism. Provide an example."
      ],
      "metadata": {
        "id": "djfGZUzeK1aj"
      }
    },
    {
      "cell_type": "code",
      "source": [
        "# Method Overriding: Subclasses can provide a specific implementation of a method that is already defined in its superclass. The method to be executed is determined at runtime based on the object's type."
      ],
      "metadata": {
        "id": "tSc9IFrRK6l9"
      },
      "execution_count": null,
      "outputs": []
    },
    {
      "cell_type": "markdown",
      "source": [
        "5. How is polymorphism different from method overloading in Python? Provide examples for both.\n"
      ],
      "metadata": {
        "id": "YOrFvUcrK-LO"
      }
    },
    {
      "cell_type": "code",
      "source": [
        "# Polymorphism in Python:\n",
        "# Polymorphism refers to the ability of different objects to respond to the same method or function call in different ways. It allows objects of different classes to be treated as objects of a common superclass and provides a way to achieve flexibility and code reusability.\n",
        "\n"
      ],
      "metadata": {
        "id": "yhVrsaNkLAM6"
      },
      "execution_count": null,
      "outputs": []
    },
    {
      "cell_type": "markdown",
      "source": [
        "6. Create a Python class called `Animal` with a method `speak()`. Then, create child classes like `Dog`, `Cat`, and `Bird`, each with their own `speak()` method. Demonstrate polymorphism by calling the `speak()` method\n",
        "on objects of different subclasses"
      ],
      "metadata": {
        "id": "nM9OODUkLSiP"
      }
    },
    {
      "cell_type": "code",
      "source": [
        "class Animal:\n",
        "    def sound(self):\n",
        "        return \"Animal sound\"\n",
        "\n",
        "class Dog(Animal):\n",
        "    def sound(self):\n",
        "        return \"Woof!\"\n",
        "\n",
        "class Cat(Animal):\n",
        "    def sound(self):\n",
        "        return \"Meow!\"\n",
        "\n",
        "# Usage\n",
        "def make_sound(animal):\n",
        "    return animal.sound()\n",
        "\n",
        "dog = Dog()\n",
        "cat = Cat()\n",
        "\n",
        "print(make_sound(dog))   # Output: Woof!\n",
        "print(make_sound(cat))   # Output: Meow!\n"
      ],
      "metadata": {
        "colab": {
          "base_uri": "https://localhost:8080/"
        },
        "id": "Ld0DSjemLU_3",
        "outputId": "afa1bce5-1b15-489a-f54b-7aef6d456afd"
      },
      "execution_count": null,
      "outputs": [
        {
          "output_type": "stream",
          "name": "stdout",
          "text": [
            "Woof!\n",
            "Meow!\n"
          ]
        }
      ]
    },
    {
      "cell_type": "markdown",
      "source": [
        "7. Discuss the use of abstract methods and classes in achieving polymorphism in Python. Provide an example\n",
        "using the `abc` module"
      ],
      "metadata": {
        "id": "3bx6fhsBLh2T"
      }
    },
    {
      "cell_type": "code",
      "source": [
        "# In Python, abstract methods and abstract classes play a crucial role in achieving polymorphism through method overriding. The abc (Abstract Base Classes) module provides facilities for defining abstract base classes and abstract methods, which are designed to be overridden by subclasses to provide specific implementations. Let's delve into their usage and provide an example:"
      ],
      "metadata": {
        "id": "gqFVoEYhLkox"
      },
      "execution_count": null,
      "outputs": []
    },
    {
      "cell_type": "markdown",
      "source": [
        "8. Create a Python class hierarchy for a vehicle system (e.g., car, bicycle, boat) and implement a polymorphic `start()` method that prints a message specific to each vehicle type."
      ],
      "metadata": {
        "id": "dm1JbOvcL4sh"
      }
    },
    {
      "cell_type": "code",
      "source": [
        "class vehicle:\n",
        "  def start(self):\n",
        "    pass\n",
        "class car(vehicle):\n",
        "  def start(self):\n",
        "    print(\"car started\")\n",
        "class bicycle(vehicle):\n",
        "  def start(self):\n",
        "    print(\"bicycle started\")\n",
        "class boat(vehicle):\n",
        "  def start(self):\n",
        "    print(\"boat started\")\n",
        "v=vehicle()\n",
        "c=car()\n",
        "b=bicycle()\n",
        "v.start()\n",
        "c.start()\n",
        "b.start()\n"
      ],
      "metadata": {
        "colab": {
          "base_uri": "https://localhost:8080/"
        },
        "id": "QTzxgwq3L9xo",
        "outputId": "9ded8a65-ad47-45e9-d29c-39934310f45d"
      },
      "execution_count": null,
      "outputs": [
        {
          "output_type": "stream",
          "name": "stdout",
          "text": [
            "car started\n",
            "bicycle started\n"
          ]
        }
      ]
    },
    {
      "cell_type": "markdown",
      "source": [
        "9. Explain the significance of the `isinstance()` and `issubclass()` functions in Python polymorphism."
      ],
      "metadata": {
        "id": "OiEGAav2MgLp"
      }
    },
    {
      "cell_type": "code",
      "source": [
        "# In Python, the isinstance() and issubclass() functions play significant roles in supporting polymorphism by facilitating type checking and hierarchy validation, respectively. These functions are crucial for determining relationships between classes and instances, which is essential for achieving flexible and dynamic behavior in object-oriented programming."
      ],
      "metadata": {
        "id": "I0LQ9ehCMjJ-"
      },
      "execution_count": null,
      "outputs": []
    },
    {
      "cell_type": "markdown",
      "source": [
        "10. What is the role of the `@abstractmethod` decorator in achieving polymorphism in Python? Provide an\n",
        "example."
      ],
      "metadata": {
        "id": "7rNy6sxSMthY"
      }
    },
    {
      "cell_type": "code",
      "source": [
        "# The @abstractmethod decorator from the abc (Abstract Base Classes) module in Python plays a crucial role in defining abstract methods within abstract classes. Abstract methods serve as placeholders in abstract classes, ensuring that subclasses provide their own implementations. This mechanism is essential for achieving polymorphism through method overriding, where different subclasses can provide specific implementations of methods defined in a common superclass."
      ],
      "metadata": {
        "id": "qjDPwAazMxKY"
      },
      "execution_count": null,
      "outputs": []
    },
    {
      "cell_type": "markdown",
      "source": [
        "11. Create a Python class called `Shape` with a polymorphic method `area()` that calculates the area of different shapes (e.g., circle, rectangle, triangle)."
      ],
      "metadata": {
        "id": "1UK7J36wM5cV"
      }
    },
    {
      "cell_type": "code",
      "source": [
        "from abc import ABC, abstractmethod\n",
        "import math\n",
        "\n",
        "# Abstract Base Class (Shape)\n",
        "class Shape(ABC):\n",
        "    @abstractmethod\n",
        "    def area(self):\n",
        "        pass\n",
        "\n",
        "# Circle subclass\n",
        "class Circle(Shape):\n",
        "    def __init__(self, radius):\n",
        "        self.radius = radius\n",
        "\n",
        "    def area(self):\n",
        "        return math.pi * self.radius ** 2\n",
        "\n",
        "# Rectangle subclass\n",
        "class Rectangle(Shape):\n",
        "    def __init__(self, width, height):\n",
        "        self.width = width\n",
        "        self.height = height\n",
        "\n",
        "    def area(self):\n",
        "        return self.width * self.height\n",
        "\n",
        "# Triangle subclass\n",
        "class Triangle(Shape):\n",
        "    def __init__(self, base, height):\n",
        "        self.base = base\n",
        "        self.height = height\n",
        "\n",
        "    def area(self):\n",
        "        return 0.5 * self.base * self.height\n",
        "\n",
        "# Function to calculate and print area for any shape\n",
        "def print_area(shape):\n",
        "    print(f\"Area of the shape is: {shape.area()}\")\n",
        "\n",
        "# Usage\n",
        "circle = Circle(5)\n",
        "rectangle = Rectangle(4, 6)\n",
        "triangle = Triangle(3, 8)\n",
        "\n",
        "print_area(circle)      # Output: Area of the shape is: 78.53981633974483\n",
        "print_area(rectangle)   # Output: Area of the shape is: 24\n",
        "print_area(triangle)    # Output: Area of the shape is: 12.0\n"
      ],
      "metadata": {
        "colab": {
          "base_uri": "https://localhost:8080/"
        },
        "id": "1tLO8z0EM8Kt",
        "outputId": "55377e3d-fce7-42da-a70f-e144b2154bd4"
      },
      "execution_count": null,
      "outputs": [
        {
          "output_type": "stream",
          "name": "stdout",
          "text": [
            "Area of the shape is: 78.53981633974483\n",
            "Area of the shape is: 24\n",
            "Area of the shape is: 12.0\n"
          ]
        }
      ]
    },
    {
      "cell_type": "markdown",
      "source": [
        "12. Discuss the benefits of polymorphism in terms of code reusability and flexibility in Python programs.\n"
      ],
      "metadata": {
        "id": "TVit2xDrNVw1"
      }
    },
    {
      "cell_type": "code",
      "source": [
        "\n",
        "# Polymorphism in Python offers significant benefits in terms of code reusability and flexibility, making it a powerful feature of object-oriented programming. Let's delve into these benefits in detail:"
      ],
      "metadata": {
        "id": "1c446zJPNX2a"
      },
      "execution_count": null,
      "outputs": []
    },
    {
      "cell_type": "markdown",
      "source": [
        "13. Explain the use of the `super()` function in Python polymorphism. How does it help call methods of parent\n",
        "classes?"
      ],
      "metadata": {
        "id": "NEIJTSCBNntK"
      }
    },
    {
      "cell_type": "code",
      "source": [
        "\n",
        "# In Python, the super() function plays a crucial role in facilitating method resolution order (MRO) and accessing methods or attributes from parent classes in the context of inheritance. This is particularly useful in achieving polymorphism, where subclasses can override methods from their parent classes while still being able to invoke these overridden methods if needed. Let's delve into how super() works and its significance in Python polymorphism:"
      ],
      "metadata": {
        "id": "eF1nD7BdNqJp"
      },
      "execution_count": null,
      "outputs": []
    },
    {
      "cell_type": "markdown",
      "source": [
        "4. Create a Python class hierarchy for a banking system with various account types (e.g., savings, checking, credit card) and demonstrate polymorphism by implementing a common `withdraw()` method."
      ],
      "metadata": {
        "id": "3e2jTi3SN0y8"
      }
    },
    {
      "cell_type": "code",
      "source": [
        "# Abstract Base Class (Account)\n",
        "class Account:\n",
        "    def __init__(self, account_number, balance):\n",
        "        self.account_number = account_number\n",
        "        self.balance = balance\n",
        "\n",
        "    def withdraw(self, amount):\n",
        "        pass  # Placeholder for abstract method\n",
        "\n",
        "# Savings Account subclass\n",
        "class SavingsAccount(Account):\n",
        "    def withdraw(self, amount):\n",
        "        if amount <= self.balance:\n",
        "            self.balance -= amount\n",
        "            print(f\"Withdrew {amount} from Savings Account. Remaining balance: {self.balance}\")\n",
        "        else:\n",
        "            print(\"Insufficient funds in Savings Account.\")\n",
        "\n",
        "# Checking Account subclass\n",
        "class CheckingAccount(Account):\n",
        "    def withdraw(self, amount):\n",
        "        if amount <= self.balance:\n",
        "            self.balance -= amount\n",
        "            print(f\"Withdrew {amount} from Checking Account. Remaining balance: {self.balance}\")\n",
        "        else:\n",
        "            print(\"Insufficient funds in Checking Account.\")\n",
        "\n",
        "# Credit Card Account subclass\n",
        "class CreditCardAccount(Account):\n",
        "    def __init__(self, account_number, balance, credit_limit):\n",
        "        super().__init__(account_number, balance)\n",
        "        self.credit_limit = credit_limit\n",
        "\n",
        "    def withdraw(self, amount):\n",
        "        available_funds = self.balance + self.credit_limit\n",
        "        if amount <= available_funds:\n",
        "            self.balance -= amount\n",
        "            print(f\"Withdrew {amount} from Credit Card Account. Remaining balance: {self.balance}\")\n",
        "        else:\n",
        "            print(\"Exceeded available funds (including credit limit) in Credit Card Account.\")\n",
        "\n",
        "# Function to demonstrate polymorphism\n",
        "def test_withdraw(account, amount):\n",
        "    account.withdraw(amount)\n",
        "\n",
        "# Usage\n",
        "savings_account = SavingsAccount(\"SA123\", 5000)\n",
        "checking_account = CheckingAccount(\"CA456\", 3000)\n",
        "credit_card_account = CreditCardAccount(\"CC789\", -200, 1000)\n",
        "\n",
        "test_withdraw(savings_account, 2000)       # Output: Withdrew 2000 from Savings Account. Remaining balance: 3000\n",
        "test_withdraw(checking_account, 1500)      # Output: Withdrew 1500 from Checking Account. Remaining balance: 1500\n",
        "test_withdraw(credit_card_account, 1200)   # Output: Withdrew 1200 from Credit Card Account. Remaining balance: -1400\n"
      ],
      "metadata": {
        "colab": {
          "base_uri": "https://localhost:8080/"
        },
        "id": "qImtQwPQN5kb",
        "outputId": "32f60346-cdd9-4cc2-ff5d-5f878ad2cc65"
      },
      "execution_count": null,
      "outputs": [
        {
          "output_type": "stream",
          "name": "stdout",
          "text": [
            "Withdrew 2000 from Savings Account. Remaining balance: 3000\n",
            "Withdrew 1500 from Checking Account. Remaining balance: 1500\n",
            "Exceeded available funds (including credit limit) in Credit Card Account.\n"
          ]
        }
      ]
    },
    {
      "cell_type": "markdown",
      "source": [
        "15. Describe the concept of operator overloading in Python and how it relates to polymorphism. Provide\n",
        "examples using operators like `+` and `*`."
      ],
      "metadata": {
        "id": "lXcTLCxFOI1H"
      }
    },
    {
      "cell_type": "code",
      "source": [
        "# Operator overloading in Python refers to the ability to define how operators behave for user-defined objects. This allows objects of a class to respond to standard operators (+, -, *, /, ==, etc.) in a way that makes sense for that particular class. This concept is closely related to polymorphism because it enables different classes to provide their own implementations of operators, thereby exhibiting polymorphic behavior."
      ],
      "metadata": {
        "id": "825PwbINONjD"
      },
      "execution_count": null,
      "outputs": []
    },
    {
      "cell_type": "markdown",
      "source": [
        "16. What is dynamic polymorphism, and how is it achieved in Python?"
      ],
      "metadata": {
        "id": "Yag_LGxqOj-N"
      }
    },
    {
      "cell_type": "code",
      "source": [
        "# Dynamic polymorphism, also known as runtime polymorphism, refers to the ability of a programming language to dispatch method calls to the correct method implementation at runtime. This allows different objects to be treated as instances of the same class or superclass, while the actual method implementation called depends on the specific object's type or class hierarchy."
      ],
      "metadata": {
        "id": "UbCU-PXjOmau"
      },
      "execution_count": null,
      "outputs": []
    },
    {
      "cell_type": "markdown",
      "source": [
        "7. Create a Python class hierarchy for employees in a company (e.g., manager, developer, designer) and implement polymorphism through a common `calculate_salary()` method."
      ],
      "metadata": {
        "id": "0-73QQ00Ot4H"
      }
    },
    {
      "cell_type": "code",
      "source": [
        "class employee:\n",
        "  def calculate_salary(self):\n",
        "    pass\n",
        "class manager(employee):\n",
        "  def calculate_salary(self):\n",
        "    print(\"manager salary\")\n",
        "class developer(employee):\n",
        "  def calculate_salary(self):\n",
        "    print(\"developer salary\")\n",
        "class designer(employee):\n",
        "  def calculate_salary(self):\n",
        "    print(\"designer salary\")\n",
        "e=employee()\n",
        "m=manager()\n",
        "d=developer()\n",
        "s=designer()\n",
        "m.calculate_salary()\n",
        "d.calculate_salary()\n",
        "s.calculate_salary()"
      ],
      "metadata": {
        "colab": {
          "base_uri": "https://localhost:8080/"
        },
        "id": "mjvrv8r2OwsV",
        "outputId": "c0ae19dc-9c8c-419a-a390-7e4be32eedc9"
      },
      "execution_count": null,
      "outputs": [
        {
          "output_type": "stream",
          "name": "stdout",
          "text": [
            "manager salary\n",
            "developer salary\n",
            "designer salary\n"
          ]
        }
      ]
    },
    {
      "cell_type": "markdown",
      "source": [
        "18. Discuss the concept of function pointers and how they can be used to achieve polymorphism in Python.\n"
      ],
      "metadata": {
        "id": "dHEoqkkuPBIN"
      }
    },
    {
      "cell_type": "code",
      "source": [
        "# In Python, the concept of function pointers is not directly applicable in the same sense as in languages like C or C++. However, Python supports higher-order functions, which can achieve similar functionality and enable polymorphism through function objects and callable objects."
      ],
      "metadata": {
        "id": "cRUX-kkOPEXR"
      },
      "execution_count": null,
      "outputs": []
    },
    {
      "cell_type": "markdown",
      "source": [
        "19. Explain the role of interfaces and abstract classes in polymorphism, drawing comparisons between them.\n"
      ],
      "metadata": {
        "id": "pjLLkDoEPOuD"
      }
    },
    {
      "cell_type": "code",
      "source": [
        "\n",
        "# In object-oriented programming (OOP), interfaces and abstract classes are concepts used to achieve polymorphism by defining contracts that classes can adhere to. Both interfaces and abstract classes facilitate the implementation of polymorphic behavior, but they serve slightly different purposes and have distinct characteristics. Let's explore each concept and compare them in the context of polymorphism:"
      ],
      "metadata": {
        "id": "zM3US4PWPRAe"
      },
      "execution_count": null,
      "outputs": []
    },
    {
      "cell_type": "markdown",
      "source": [
        "20.class for a zoo simulation, demonstrating polymorphism with different animal types (e.g., mammals, birds, reptiles) and their behavior (e.g., eating, sleeping, making sounds)."
      ],
      "metadata": {
        "id": "eSBjpoeePXqf"
      }
    },
    {
      "cell_type": "code",
      "source": [
        "# Abstract base class for Animal\n",
        "class Animal:\n",
        "    def __init__(self, name):\n",
        "        self.name = name\n",
        "\n",
        "    def eat(self):\n",
        "        pass  # Abstract method\n",
        "\n",
        "    def sleep(self):\n",
        "        print(f\"{self.name} is sleeping\")\n",
        "\n",
        "    def make_sound(self):\n",
        "        pass  # Abstract method\n",
        "\n",
        "# Mammal subclass\n",
        "class Mammal(Animal):\n",
        "    def __init__(self, name):\n",
        "        super().__init__(name)\n",
        "\n",
        "    def eat(self):\n",
        "        print(f\"{self.name} the mammal is eating\")\n",
        "\n",
        "    def make_sound(self):\n",
        "        print(f\"{self.name} the mammal makes a sound\")\n",
        "\n",
        "# Bird subclass\n",
        "class Bird(Animal):\n",
        "    def __init__(self, name):\n",
        "        super().__init__(name)\n",
        "\n",
        "    def eat(self):\n",
        "        print(f\"{self.name} the bird is pecking at food\")\n",
        "\n",
        "    def make_sound(self):\n",
        "        print(f\"{self.name} the bird chirps\")\n",
        "\n",
        "# Reptile subclass\n",
        "class Reptile(Animal):\n",
        "    def __init__(self, name):\n",
        "        super().__init__(name)\n",
        "\n",
        "    def eat(self):\n",
        "        print(f\"{self.name} the reptile is devouring prey\")\n",
        "\n",
        "    def make_sound(self):\n",
        "        print(f\"{self.name} the reptile hisses\")\n",
        "\n",
        "# Function to simulate a day at the zoo\n",
        "def simulate_zoo():\n",
        "    lion = Mammal(\"Simba\")\n",
        "    parrot = Bird(\"Polly\")\n",
        "    snake = Reptile(\"Slytherin\")\n",
        "\n",
        "    # Polymorphic behavior demonstration\n",
        "    animals = [lion, parrot, snake]\n",
        "    for animal in animals:\n",
        "        print(f\"\\n{animal.name}:\")\n",
        "        animal.eat()\n",
        "        animal.make_sound()\n",
        "        animal.sleep()\n",
        "\n",
        "# Simulate the zoo\n",
        "simulate_zoo()\n",
        "\n"
      ],
      "metadata": {
        "id": "eialxFvPPbG-"
      },
      "execution_count": null,
      "outputs": []
    },
    {
      "cell_type": "markdown",
      "source": [
        "# **Abstraction:**"
      ],
      "metadata": {
        "id": "TQG2-Ijdl5gH"
      }
    },
    {
      "cell_type": "markdown",
      "source": [
        "1. What is abstraction in Python, and how does it relate to object-oriented programming?"
      ],
      "metadata": {
        "id": "TZz8qjy_mU_0"
      }
    },
    {
      "cell_type": "code",
      "source": [
        "# Abstraction in Python, as well as in other programming languages, is a fundamental concept of object-oriented programming (OOP). It involves the process of hiding the complex implementation details and showing only the essential features of an object. This allows programmers to manage complexity by breaking down the system into manageable parts and focusing on high-level interactions rather than low-level implementation details."
      ],
      "metadata": {
        "id": "vZ6Q1kUtmRQ-"
      },
      "execution_count": null,
      "outputs": []
    },
    {
      "cell_type": "markdown",
      "source": [
        "2. Describe the benefits of abstraction in terms of code organization and complexity reduction."
      ],
      "metadata": {
        "id": "uUI55iZcnGib"
      }
    },
    {
      "cell_type": "code",
      "source": [
        "# Benefits of Abstraction in Code Organization:\n",
        "# Improved Readability and Maintainability: Abstraction hides the complex implementation details, making the code easier to read and understand. Developers can work with high-level concepts without needing to understand the underlying complexities.\n",
        "\n",
        "# Modular Code Structure: Abstraction helps in organizing code into distinct modules or classes with well-defined responsibilities. This modularity makes it easier to manage and maintain the codebase.\n",
        "\n",
        "# Separation of Concerns: By abstracting different functionalities into separate classes or modules, each part of the code can focus on a single aspect of the program. This separation of concerns leads to cleaner and more organized code.\n",
        "\n",
        "# Reusability: Abstract classes and interfaces define common functionalities that can be reused across different parts of the application. This reduces duplication and promotes code reuse.\n",
        "\n",
        "# Encapsulation: Abstraction complements encapsulation by ensuring that the internal workings of objects are hidden. This encapsulation enhances data security and integrity by exposing only what is necessary to the outside world.\n",
        "\n",
        "# Benefits of Abstraction in Complexity Reduction:\n",
        "# Simplifies Complex Systems: Abstraction allows developers to break down complex systems into simpler, manageable components. By focusing on high-level functionality, developers can handle complexity more effectively.\n",
        "\n",
        "# Reduces Cognitive Load: By hiding unnecessary details, abstraction reduces the cognitive load on developers. They can concentrate on what the object does rather than how it does it.\n",
        "\n",
        "# Easier Debugging and Testing: With abstraction, individual components can be tested and debugged independently. This isolation makes it easier to identify and fix issues without affecting other parts of the system.\n",
        "\n",
        "# Flexible and Scalable Design: Abstraction enables flexible and scalable design by allowing developers to change the implementation of an abstracted component without affecting the rest of the system. This adaptability is crucial for accommodating future changes and scaling the application.\n",
        "\n",
        "# Promotes Interface-Based Design: By focusing on interfaces rather than implementations, abstraction encourages a design approach that is flexible and adaptable. This design principle is especially useful in large projects where different teams may work on different components.\n",
        "\n"
      ],
      "metadata": {
        "id": "a4fMI9xJnJ9J"
      },
      "execution_count": null,
      "outputs": []
    },
    {
      "cell_type": "markdown",
      "source": [
        "3. Create a Python class called `Shape` with an abstract method `calculate_area()`. Then, create child classes (e.g., `Circle`, `Rectangle`) that implement the `calculate_area()` method. Provide an example of\n",
        "using these classes."
      ],
      "metadata": {
        "id": "3XziEiS5nUuT"
      }
    },
    {
      "cell_type": "code",
      "source": [
        "from abc import ABC, abstractmethod\n",
        "class shape:\n",
        "  @abstractmethod\n",
        "  def calculate_area(self):\n",
        "    pass\n",
        "class circle(shape):\n",
        "  def __init__(self,radius):\n",
        "    self.radius=radius\n",
        "  def calculate_area(self):\n",
        "    return 3.14*self.radius*self.radius\n",
        "class square(shape):\n",
        "  def __init__(self,side):\n",
        "    self.side=side\n",
        "  def calculate_area(self):\n",
        "    return self.side*self.side\n",
        "class triangle(shape):\n",
        "  def __init__(self,base,height):\n",
        "    self.base=base\n",
        "    self.height=height\n",
        "  def calculate_area(self):\n",
        "    return 0.5*self.base*self.height\n",
        "s=shape()\n",
        "c=circle(5)\n",
        "sq=square(5)\n",
        "t=triangle(5,5)\n",
        "\n",
        "print(c.calculate_area())\n",
        "print(sq.calculate_area())\n",
        "print(t.calculate_area())"
      ],
      "metadata": {
        "colab": {
          "base_uri": "https://localhost:8080/"
        },
        "id": "rg7xyug8nXo_",
        "outputId": "18098c90-67ee-4558-aea6-e5977e912efa"
      },
      "execution_count": null,
      "outputs": [
        {
          "output_type": "stream",
          "name": "stdout",
          "text": [
            "78.5\n",
            "25\n",
            "12.5\n"
          ]
        }
      ]
    },
    {
      "cell_type": "markdown",
      "source": [
        "4. Explain the concept of abstract classes in Python and how they are defined using the `abc` module. Provide\n",
        "an example."
      ],
      "metadata": {
        "id": "ucM3blHln__z"
      }
    },
    {
      "cell_type": "code",
      "source": [
        "# Abstract classes in Python are a way to define classes that cannot be instantiated and are meant to be subclasses by other classes. These abstract classes can contain abstract methods, which are methods that are declared but contain no implementation. Abstract classes are defined using the abc (Abstract Base Class) module in Python."
      ],
      "metadata": {
        "id": "qSvEwaxmoDBv"
      },
      "execution_count": null,
      "outputs": []
    },
    {
      "cell_type": "markdown",
      "source": [
        "5. How do abstract classes differ from regular classes in Python? Discuss their use cases."
      ],
      "metadata": {
        "id": "8rO_6l4_oL4U"
      }
    },
    {
      "cell_type": "code",
      "source": [
        "# Abstract classes and regular classes in Python serve different purposes and have distinct characteristics. Here’s a detailed comparison between them and their use cases:\n",
        "\n",
        "# Abstract Classes:\n",
        "# Definition and Instantiation:\n",
        "\n",
        "# Abstract Classes: Cannot be instantiated directly. They are designed to be inherited by other classes.\n",
        "# Regular Classes: Can be instantiated directly to create objects.\n",
        "# Purpose:\n",
        "\n",
        "# Abstract Classes: Provide a common interface for a group of related classes and enforce certain methods to be implemented by derived classes.\n",
        "# Regular Classes: Define concrete implementations and can be used directly to create objects with specific behavior.\n",
        "# Methods:\n",
        "\n",
        "# Abstract Classes: Can contain abstract methods (methods declared without an implementation) and concrete methods (fully implemented methods).\n",
        "# Regular Classes: Contain only concrete methods.\n",
        "# Implementation:\n",
        "\n",
        "# Abstract Classes: Use the abc module, where the class inherits from ABC and abstract methods are decorated with @abstractmethod.\n",
        "# Regular Classes: Defined without using the abc module and do not require special decorators for methods."
      ],
      "metadata": {
        "id": "ySd9UGGIoOkd"
      },
      "execution_count": null,
      "outputs": []
    },
    {
      "cell_type": "markdown",
      "source": [
        "6. Create a Python class for a bank account and demonstrate abstraction by hiding the account balance and\n",
        "providing methods to deposit and withdraw funds."
      ],
      "metadata": {
        "id": "0W9P646vouXq"
      }
    },
    {
      "cell_type": "code",
      "source": [
        "class BankAccount:\n",
        "    def __init__(self, account_number, owner_name, initial_balance=0.0):\n",
        "        self._account_number = account_number\n",
        "        self._owner_name = owner_name\n",
        "        self._balance = initial_balance\n",
        "\n",
        "    def deposit(self, amount):\n",
        "        \"\"\"Deposit `amount` into the account.\"\"\"\n",
        "        if amount > 0:\n",
        "            self._balance += amount\n",
        "            print(f\"Deposited ${amount:.2f}. New balance: ${self._balance:.2f}\")\n",
        "        else:\n",
        "            print(\"Deposit amount must be positive.\")\n",
        "\n",
        "    def withdraw(self, amount):\n",
        "        \"\"\"Withdraw `amount` from the account if sufficient balance.\"\"\"\n",
        "        if 0 < amount <= self._balance:\n",
        "            self._balance -= amount\n",
        "            print(f\"Withdrew ${amount:.2f}. New balance: ${self._balance:.2f}\")\n",
        "        else:\n",
        "            print(\"Insufficient funds or invalid amount.\")\n",
        "\n",
        "    def get_balance(self):\n",
        "        \"\"\"Return the current balance.\"\"\"\n",
        "        return self._balance\n",
        "\n",
        "    def get_account_number(self):\n",
        "        \"\"\"Return the account number.\"\"\"\n",
        "        return self._account_number\n",
        "\n",
        "    def get_owner_name(self):\n",
        "        \"\"\"Return the owner's name.\"\"\"\n",
        "        return self._owner_name\n",
        "\n",
        "# Example usage:\n",
        "if __name__ == \"__main__\":\n",
        "    # Creating an instance of BankAccount\n",
        "    account1 = BankAccount(\"123456789\", \"John Doe\", 1000.0)\n",
        "\n",
        "    # Demonstrate deposit and withdrawal\n",
        "    account1.deposit(500.0)\n",
        "    account1.withdraw(200.0)\n",
        "\n",
        "    # Accessing account details\n",
        "    print(f\"Account Number: {account1.get_account_number()}\")\n",
        "    print(f\"Owner Name: {account1.get_owner_name()}\")\n",
        "    print(f\"Current Balance: ${account1.get_balance():.2f}\")\n"
      ],
      "metadata": {
        "id": "xA92N62DoyEZ",
        "colab": {
          "base_uri": "https://localhost:8080/"
        },
        "outputId": "4b978447-3509-4152-8334-be2585cec5db"
      },
      "execution_count": null,
      "outputs": [
        {
          "output_type": "stream",
          "name": "stdout",
          "text": [
            "Deposited $500.00. New balance: $1500.00\n",
            "Withdrew $200.00. New balance: $1300.00\n",
            "Account Number: 123456789\n",
            "Owner Name: John Doe\n",
            "Current Balance: $1300.00\n"
          ]
        }
      ]
    },
    {
      "cell_type": "markdown",
      "source": [
        "7. Discuss the concept of interface classes in Python and their role in achieving abstraction."
      ],
      "metadata": {
        "id": "ARNPuiz3vnCd"
      }
    },
    {
      "cell_type": "code",
      "source": [
        "# Concept of Interface Classes:\n",
        "# Definition:\n",
        "\n",
        "# An interface class in Python defines a blueprint of methods that a class must implement.\n",
        "# It specifies what methods a class should have, but it doesn't provide the implementation of those methods.\n",
        "# Purpose:\n",
        "\n",
        "# Abstraction: Interfaces allow you to define a contract for classes that need to adhere to a certain set of methods. This hides the implementation details of how those methods work.\n",
        "# Standardization: Interfaces help in standardizing the structure and behavior of classes that implement them, promoting consistency and interoperability in codebases.\n",
        "# Polymorphism: Through interfaces, different classes can be treated uniformly based on their common interface, facilitating polymorphic behavior.\n",
        "# Python's Approach to Interfaces:\n",
        "\n",
        "# Python doesn't have a built-in interface keyword like some other languages (e.g., Java).\n",
        "# Instead, interfaces are often implemented using abstract base classes (ABCs) from the abc module or through informal conventions (e.g., documenting expected methods without enforcing them).\n",
        "# Using Abstract Base Classes (ABCs):\n",
        "\n",
        "# Python's abc module provides tools for defining abstract base classes.\n",
        "# An abstract base class can define methods that must be implemented by any subclass.\n",
        "# It allows for partial implementation of methods which subclasses can override to suit their specific behavior."
      ],
      "metadata": {
        "id": "Y62CUde1vqU0"
      },
      "execution_count": null,
      "outputs": []
    },
    {
      "cell_type": "markdown",
      "source": [
        "8. Create a Python class hierarchy for animals and implement abstraction by defining common methods (e.g., `eat()`, `sleep()`) in an abstract base class."
      ],
      "metadata": {
        "id": "SRT3ZESXv1N7"
      }
    },
    {
      "cell_type": "code",
      "source": [
        "class animal:\n",
        "  def eat(self):\n",
        "    pass\n",
        "  def sleep(self):\n",
        "    pass\n",
        "class mammal(animal):\n",
        "  def eat(self):\n",
        "    print(\"mammal is eating\")\n",
        "class bird(animal):\n",
        "  def eat(self):\n",
        "    print(\"bird is pecking\")\n",
        "class reptile(animal):\n",
        "  def eat(self):\n",
        "    print(\"reptile is eating\")\n",
        "a=animal()\n",
        "m=mammal()\n",
        "b=bird()\n",
        "r=reptile()\n",
        "a.eat()\n",
        "m.eat()\n",
        "b.eat()\n",
        "r.eat()\n",
        "a.sleep()\n",
        "m.sleep()\n",
        "b.sleep()\n",
        "r.sleep()"
      ],
      "metadata": {
        "colab": {
          "base_uri": "https://localhost:8080/"
        },
        "id": "o5c9YEHAv4_o",
        "outputId": "947153be-3a2c-4d52-cbb1-eb1a0443c346"
      },
      "execution_count": null,
      "outputs": [
        {
          "output_type": "stream",
          "name": "stdout",
          "text": [
            "mammal is eating\n",
            "bird is pecking\n",
            "reptile is eating\n"
          ]
        }
      ]
    },
    {
      "cell_type": "markdown",
      "source": [
        "9. Explain the significance of encapsulation in achieving abstraction. Provide examples."
      ],
      "metadata": {
        "id": "1DRT_l0bwODl"
      }
    },
    {
      "cell_type": "code",
      "source": [
        "# Encapsulation and abstraction are closely related concepts in object-oriented programming, where encapsulation plays a crucial role in achieving abstraction. Let's delve into the significance of encapsulation and how it facilitates abstraction, along with examples to illustrate its importance."
      ],
      "metadata": {
        "id": "0E2LJKNOwQ4a"
      },
      "execution_count": null,
      "outputs": []
    },
    {
      "cell_type": "markdown",
      "source": [
        "10. What is the purpose of abstract methods, and how do they enforce abstraction in Python classes?"
      ],
      "metadata": {
        "id": "H1N9oXzlwWxT"
      }
    },
    {
      "cell_type": "code",
      "source": [
        "# Abstract methods in Python serve the purpose of defining a method signature without providing an implementation. They enforce abstraction by ensuring that subclasses must override these methods, thus adhering to a specified interface or contract. Here’s a detailed explanation of their purpose and how they enforce abstraction in Python classes:"
      ],
      "metadata": {
        "id": "jMdzlL20wZqB"
      },
      "execution_count": null,
      "outputs": []
    },
    {
      "cell_type": "markdown",
      "source": [
        "11. Create a Python class for a vehicle system and demonstrate abstraction by defining common methods"
      ],
      "metadata": {
        "id": "8BX6lLvJwdic"
      }
    },
    {
      "cell_type": "code",
      "source": [
        "class vehicle:\n",
        "  def start(self):\n",
        "    pass\n",
        "  def stop(self):\n",
        "    pass\n",
        "class car(vehicle):\n",
        "  def start(self):\n",
        "    print(\"car is starting\")\n",
        "  def stop(self):\n",
        "    print(\"car is stopping\")\n",
        "class bike(vehicle):\n",
        "  def start(self):\n",
        "    print(\"bike is starting\")\n",
        "  def stop(self):\n",
        "    print(\"bike is stopping\")\n",
        "v=vehicle()\n",
        "c=car()\n",
        "b=bike()\n",
        "v.start()\n",
        "v.stop()\n",
        "b.start()\n",
        "b.stop()\n",
        "c.start()\n",
        "c.stop"
      ],
      "metadata": {
        "colab": {
          "base_uri": "https://localhost:8080/",
          "height": 160
        },
        "id": "M3UgeHtXwhfh",
        "outputId": "5a2c3f49-915b-4952-aac8-a56d24edf7f0"
      },
      "execution_count": null,
      "outputs": [
        {
          "output_type": "stream",
          "name": "stdout",
          "text": [
            "bike is starting\n",
            "bike is stopping\n",
            "car is starting\n"
          ]
        },
        {
          "output_type": "execute_result",
          "data": {
            "text/plain": [
              "<bound method car.stop of <__main__.car object at 0x7d42437bf190>>"
            ],
            "text/html": [
              "<div style=\"max-width:800px; border: 1px solid var(--colab-border-color);\"><style>\n",
              "      pre.function-repr-contents {\n",
              "        overflow-x: auto;\n",
              "        padding: 8px 12px;\n",
              "        max-height: 500px;\n",
              "      }\n",
              "\n",
              "      pre.function-repr-contents.function-repr-contents-collapsed {\n",
              "        cursor: pointer;\n",
              "        max-height: 100px;\n",
              "      }\n",
              "    </style>\n",
              "    <pre style=\"white-space: initial; background:\n",
              "         var(--colab-secondary-surface-color); padding: 8px 12px;\n",
              "         border-bottom: 1px solid var(--colab-border-color);\"><b>car.stop</b><br/>def stop()</pre><pre class=\"function-repr-contents function-repr-contents-collapsed\" style=\"\"><a class=\"filepath\" style=\"display:none\" href=\"#\">/content/&lt;ipython-input-3-c80c924a1b35&gt;</a>&lt;no docstring&gt;</pre></div>"
            ]
          },
          "metadata": {},
          "execution_count": 3
        }
      ]
    },
    {
      "cell_type": "markdown",
      "source": [
        "12. Describe the use of abstract properties in Python and how they can be employed in abstract classes."
      ],
      "metadata": {
        "id": "pwbxNPqzwvuA"
      }
    },
    {
      "cell_type": "code",
      "source": [
        "# Abstract properties in Python are similar to abstract methods but specifically define properties that subclasses must implement. They are used within abstract classes to enforce the presence of specific attributes with getter and setter methods, without providing their implementation. Here’s a detailed explanation of abstract properties and their application in abstract classes:"
      ],
      "metadata": {
        "id": "g3lOBIdXwyku"
      },
      "execution_count": null,
      "outputs": []
    },
    {
      "cell_type": "markdown",
      "source": [
        "13. Create a Python class hierarchy for employees in a company (e.g., manager, developer, designer) and implement abstraction by defining a common `get_salary()` method."
      ],
      "metadata": {
        "id": "V5rkMVt-w3lV"
      }
    },
    {
      "cell_type": "code",
      "source": [
        "class employee:\n",
        "  def get_salary(self):\n",
        "    pass\n",
        "class manager(employee):\n",
        "  def get_salary(self):\n",
        "    print(\"manager salary\")\n",
        "class developer(employee):\n",
        "  def get_salary(self):\n",
        "    print(\"developer salary\")\n",
        "class designer(employee):\n",
        "  def get_salary(self):\n",
        "    print(\"designer salary\")\n",
        "e=employee()\n",
        "m=manager()\n",
        "d=developer()\n",
        "s=designer()\n",
        "s.get_salary()"
      ],
      "metadata": {
        "colab": {
          "base_uri": "https://localhost:8080/"
        },
        "id": "397EzJlhw7K3",
        "outputId": "45fd8425-1b43-4835-f296-efdd4f65798a"
      },
      "execution_count": null,
      "outputs": [
        {
          "output_type": "stream",
          "name": "stdout",
          "text": [
            "designer salary\n"
          ]
        }
      ]
    },
    {
      "cell_type": "markdown",
      "source": [
        "14. Discuss the differences between abstract classes and concrete classes in Python, including their\n",
        "instantiation."
      ],
      "metadata": {
        "id": "Lz8RtonzxJJ2"
      }
    },
    {
      "cell_type": "code",
      "source": [
        "# Abstract Classes:\n",
        "# Definition:\n",
        "\n",
        "# An abstract class in Python is a class that cannot be instantiated directly.\n",
        "# It is designed to be a blueprint for other classes and typically contains one or more abstract methods or properties.\n",
        "# Characteristics:\n",
        "\n",
        "# Abstract Methods: An abstract class may have abstract methods, which are methods without any implementation. Subclasses must override these methods to provide concrete implementations.\n",
        "# Cannot be Instantiated: Attempting to create an instance of an abstract class directly using its constructor will raise a TypeError.\n",
        "# Used for Inheritance: Abstract classes are meant to be subclassed. They provide structure and define common behaviors that subclasses are expected to implement.\n",
        "# Implementation:\n",
        "\n",
        "# Abstract classes are defined using the abc module in Python.\n",
        "# They are typically created by subclassing the ABC class and using the @abstractmethod decorator to declare abstract methods or properties."
      ],
      "metadata": {
        "id": "2Vp2a3dYxOcw"
      },
      "execution_count": null,
      "outputs": []
    },
    {
      "cell_type": "markdown",
      "source": [
        "15. Explain the concept of abstract data types (ADTs) and their role in achieving abstraction in Python."
      ],
      "metadata": {
        "id": "thWgse86xac1"
      }
    },
    {
      "cell_type": "code",
      "source": [
        "# Abstract Data Types (ADTs) are fundamental concepts in computer science and programming that define a set of operations on data without specifying the implementation details. They provide a high-level view of data structures and their associated operations, emphasizing what operations can be performed rather than how they are implemented. Here’s a detailed explanation of ADTs and their role in achieving abstraction in Python:"
      ],
      "metadata": {
        "id": "QwHLZlWcxefW"
      },
      "execution_count": null,
      "outputs": []
    },
    {
      "cell_type": "markdown",
      "source": [
        "16. Create a Python class for a computer system, demonstrating abstraction by defining common methods (e.g., `power_on()`, `shutdown()`) in an abstract base class."
      ],
      "metadata": {
        "id": "Ls1ckYb1xlCG"
      }
    },
    {
      "cell_type": "code",
      "source": [
        "class computer:\n",
        "  def power_on(self):\n",
        "    pass\n",
        "  def shutdown(self):\n",
        "    pass\n",
        "class laptop(computer):\n",
        "  def power_on(self):\n",
        "    print(\"laptop is on\")\n",
        "  def shutdown(self):\n",
        "    print(\"laptop is off\")\n",
        "c=computer()\n",
        "l=laptop()\n",
        "c.power_on()\n",
        "c.shutdown()\n",
        "l.power_on()\n",
        "l.shutdown()"
      ],
      "metadata": {
        "colab": {
          "base_uri": "https://localhost:8080/"
        },
        "id": "uXL-VMxaxqJf",
        "outputId": "d0757810-2efc-4df2-db5c-337372269273"
      },
      "execution_count": null,
      "outputs": [
        {
          "output_type": "stream",
          "name": "stdout",
          "text": [
            "laptop is on\n",
            "laptop is off\n"
          ]
        }
      ]
    },
    {
      "cell_type": "markdown",
      "source": [
        "17. Discuss the benefits of using abstraction in large-scale software development projects."
      ],
      "metadata": {
        "id": "jJezHuZAx1tD"
      }
    },
    {
      "cell_type": "code",
      "source": [
        "# 1. Modularity and Code Organization:\n",
        "# Abstraction encourages modular design by separating different components of the software based on their responsibilities and functionalities.\n",
        "# Modules and components can be developed independently, making it easier to manage complexity and reduce interdependencies.\n",
        "# This promotes code reusability and facilitates easier maintenance and updates.\n",
        "# 2. Reduced Complexity:\n",
        "# Abstraction hides complex implementation details behind simpler and more manageable interfaces.\n",
        "# Developers can focus on high-level design and interactions between components without getting bogged down by low-level implementation specifics.\n",
        "# This simplification reduces the cognitive load on developers, making the software easier to understand, debug, and extend.\n",
        "# 3. Enhanced Flexibility and Extensibility:\n",
        "# Abstracting away implementation details allows components to be swapped out or upgraded without affecting the rest of the system.\n",
        "# New features and functionalities can be added or modified more easily because changes are localized to specific modules or layers defined by their interfaces.\n",
        "# Systems designed with abstraction are more adaptable to evolving requirements and technological advancements.\n",
        "# 4. Improved Maintainability:\n",
        "# Abstraction promotes clean separation between different layers of the software (e.g., UI, business logic, data access).\n",
        "# Changes to one layer can be made without impacting others, reducing the risk of unintended side effects and making maintenance tasks more predictable and efficient.\n",
        "# Encapsulation through abstraction limits direct access to internal components, which minimizes the ripple effect of changes across the codebase.\n",
        "# 5. Enhanced Collaboration:\n",
        "# Abstraction facilitates team collaboration by providing well-defined interfaces and contracts between different parts of the software.\n",
        "# Teams can work on different modules independently, based on agreed-upon interfaces, ensuring that integration issues are minimized and development efforts are aligned.\n",
        "# 6. Security and Risk Mitigation:\n",
        "# Abstraction helps in enforcing security measures by limiting direct access to sensitive data and functionalities.\n",
        "# Critical components can be protected through abstraction layers that control access and ensure proper authorization and authentication mechanisms are in place.\n",
        "# It reduces the surface area for potential vulnerabilities and makes security audits and compliance efforts more manageable.\n",
        "# 7. Scalability:\n",
        "# Abstracting components into reusable modules and services facilitates scalability.\n",
        "# Systems can handle increased loads by scaling individual components or services horizontally or vertically, leveraging cloud computing and containerization technologies.\n",
        "# Abstraction enables distributed architectures that support scaling across multiple servers or cloud instances.\n",
        "# 8. Simplified Testing and Debugging:\n",
        "# Abstraction promotes unit testing and integration testing by isolating components and defining clear boundaries between them.\n",
        "# Testing becomes more focused on verifying interfaces and expected behaviors, rather than testing every intricate detail of the implementation.\n",
        "# Debugging efforts are streamlined because issues can often be isolated to specific modules or layers defined by their abstractions."
      ],
      "metadata": {
        "id": "I_oFZlISyC9L"
      },
      "execution_count": null,
      "outputs": []
    },
    {
      "cell_type": "markdown",
      "source": [
        "18. Explain how abstraction enhances code reusability and modularity in Python programs."
      ],
      "metadata": {
        "id": "FyMd0I3ryHqP"
      }
    },
    {
      "cell_type": "code",
      "source": [
        "# 1. Definition of Abstraction in Python:\n",
        "# Abstraction in Python involves hiding the complex implementation details of functionalities and exposing only essential features or interfaces.\n",
        "# It allows developers to focus on what a component does (its interface and behavior) rather than how it does it (its internal implementation).\n",
        "# 2. Code Reusability:\n",
        "# Encapsulation of Complexity:\n",
        "\n",
        "# Abstraction encapsulates complex logic and data structures into well-defined interfaces or classes.\n",
        "# By hiding implementation details, abstraction makes it easier to reuse code across different parts of an application or even in different applications."
      ],
      "metadata": {
        "id": "GtsDwJ8pyK5-"
      },
      "execution_count": null,
      "outputs": []
    },
    {
      "cell_type": "markdown",
      "source": [
        "19. Create a Python class for a library system, implementing abstraction by defining common methods (e.g., `add_book()`, `borrow_book()`) in an abstract base class."
      ],
      "metadata": {
        "id": "RuSf3fIPyVHO"
      }
    },
    {
      "cell_type": "code",
      "source": [
        "class library:\n",
        "  def add_book(self):\n",
        "    pass\n",
        "  def borrow_book(self):\n",
        "    pass\n",
        "class book(library):\n",
        "  def add_book(self):\n",
        "    print(\"book added\")\n",
        "  def borrow_book(self):\n",
        "    print(\"book borrowed\")\n",
        "l=library()\n",
        "b=book()\n",
        "b.add_book()\n",
        "b.borrow_book()"
      ],
      "metadata": {
        "colab": {
          "base_uri": "https://localhost:8080/"
        },
        "id": "fYbZLPYgyYHa",
        "outputId": "8126ce48-8561-45b1-9cd3-90c10681e9db"
      },
      "execution_count": null,
      "outputs": [
        {
          "output_type": "stream",
          "name": "stdout",
          "text": [
            "book added\n",
            "book borrowed\n"
          ]
        }
      ]
    },
    {
      "cell_type": "markdown",
      "source": [
        "20. Describe the concept of method abstraction in Python and how it relates to polymorphism."
      ],
      "metadata": {
        "id": "xmPNlcoNy1Pn"
      }
    },
    {
      "cell_type": "code",
      "source": [
        "# Method abstraction in Python involves defining methods in a way that their specific implementations are hidden from the users of those methods. This concept is closely related to polymorphism, which allows objects of different classes to be treated as objects of a common superclass, thereby enabling flexibility and reusability in code."
      ],
      "metadata": {
        "id": "i8K-3URPy3U8"
      },
      "execution_count": null,
      "outputs": []
    },
    {
      "cell_type": "markdown",
      "source": [],
      "metadata": {
        "id": "qy5Be7fDy_FO"
      }
    },
    {
      "cell_type": "markdown",
      "source": [
        "Composition:"
      ],
      "metadata": {
        "id": "9ldSFpOlh5yD"
      }
    },
    {
      "cell_type": "markdown",
      "source": [
        "1. Explain the concept of composition in Python and how it is used to build complex objects from simpler ones."
      ],
      "metadata": {
        "id": "YRZM8Sz4iSio"
      }
    },
    {
      "cell_type": "code",
      "source": [
        "# Composition is a concept that models a has a relationship. It enables creating complex types by combining objects of other types. This means that a class Composite can contain an object of another class Component . This relationship means that a Composite has a Component ."
      ],
      "metadata": {
        "id": "gNOglYWiiTb8"
      },
      "execution_count": null,
      "outputs": []
    },
    {
      "cell_type": "markdown",
      "source": [
        "2. Describe the difference between composition and inheritance in object-oriented programming."
      ],
      "metadata": {
        "id": "RCkIVLPwiche"
      }
    },
    {
      "cell_type": "code",
      "source": [
        "# In object-oriented programming (OOP), composition and inheritance are two fundamental techniques used to create relationships between classes and promote code reuse. However, they do so in different ways and are suitable for different scenarios."
      ],
      "metadata": {
        "id": "j1YnGnyDifi8"
      },
      "execution_count": null,
      "outputs": []
    },
    {
      "cell_type": "markdown",
      "source": [
        "3. Create a Python class called `Author` with attributes for name and birthdate. Then, create a `Book` class\n",
        "that contains an instance of `Author` as a composition. Provide an example of creating a `Book` object."
      ],
      "metadata": {
        "id": "uBSQgvJvjIct"
      }
    },
    {
      "cell_type": "code",
      "source": [
        "class author:\n",
        "  def __init__(self,name,birthdate):\n",
        "    self.name=name\n",
        "    self.birthdate=birthdate\n",
        "class book:\n",
        "  def __init__(self,name,author):\n",
        "    self.name=name\n",
        "    self.author=author\n",
        "a=author(\"abc\",\"123\")\n",
        "b=book(\"xyz\",a)\n",
        "print(a.name)"
      ],
      "metadata": {
        "colab": {
          "base_uri": "https://localhost:8080/"
        },
        "id": "VznEc51EjUL0",
        "outputId": "87235d71-f2b7-49f6-f072-f93c5e515f0b"
      },
      "execution_count": 4,
      "outputs": [
        {
          "output_type": "stream",
          "name": "stdout",
          "text": [
            "abc\n"
          ]
        }
      ]
    },
    {
      "cell_type": "markdown",
      "source": [
        "5. How can you implement composition in Python classes? Provide examples of using composition to create\n",
        "complex objects."
      ],
      "metadata": {
        "id": "dVM6VFtFkN2B"
      }
    },
    {
      "cell_type": "code",
      "source": [
        "# Implementing composition in Python involves creating classes that use instances of other classes as attributes to build more complex functionality. Here’s a step-by-step guide and examples to illustrate how to use composition to create complex objects.\n",
        "\n",
        "# Step-by-Step Guide\n",
        "# Define the Component Classes: These are the simpler classes that will be used within other classes.\n",
        "# Define the Composite Class: This class will contain instances of the component classes as attributes.\n",
        "# Initialize the Component Instances: In the constructor of the composite class, initialize the component instances.\n",
        "# Delegate Tasks to Components: Methods in the composite class can call methods on the component instances to achieve desired behavior.\n",
        "# Example: Creating a Complex Object with Composition\n",
        "# Consider a scenario where we want to model a Book that contains Title, Author, and Content components."
      ],
      "metadata": {
        "id": "c4usl2frlYBS"
      },
      "execution_count": null,
      "outputs": []
    },
    {
      "cell_type": "markdown",
      "source": [
        "6. Create a Python class hierarchy for a music player system, using composition to represent playlists and\n",
        "songs."
      ],
      "metadata": {
        "id": "ReYxlMr7ldjd"
      }
    },
    {
      "cell_type": "code",
      "source": [
        "class Song:\n",
        "    def __init__(self, title, artist, duration):\n",
        "        self.title = title\n",
        "        self.artist = artist\n",
        "        self.duration = duration  # duration in seconds\n",
        "\n",
        "    def __str__(self):\n",
        "        return f'{self.title} by {self.artist} ({self.duration} seconds)'\n",
        "\n",
        "class Playlist:\n",
        "    def __init__(self, name):\n",
        "        self.name = name\n",
        "        self.songs = []\n",
        "\n",
        "    def add_song(self, song):\n",
        "        if isinstance(song, Song):\n",
        "            self.songs.append(song)\n",
        "        else:\n",
        "            raise ValueError(\"Only instances of Song can be added to the playlist.\")\n",
        "\n",
        "    def remove_song(self, song):\n",
        "        self.songs.remove(song)\n",
        "\n",
        "    def total_duration(self):\n",
        "        return sum(song.duration for song in self.songs)\n",
        "\n",
        "    def __str__(self):\n",
        "        return f'Playlist: {self.name}, Total duration: {self.total_duration()} seconds'\n",
        "\n",
        "class MusicPlayer:\n",
        "    def __init__(self):\n",
        "        self.playlists = []\n",
        "\n",
        "    def add_playlist(self, playlist):\n",
        "        if isinstance(playlist, Playlist):\n",
        "            self.playlists.append(playlist)\n",
        "        else:\n",
        "            raise ValueError(\"Only instances of Playlist can be added to the music player.\")\n",
        "\n",
        "    def remove_playlist(self, playlist):\n",
        "        self.playlists.remove(playlist)\n",
        "\n",
        "    def play_song(self, song):\n",
        "        if isinstance(song, Song):\n",
        "            print(f'Playing {song}')\n",
        "        else:\n",
        "            raise ValueError(\"Only instances of Song can be played.\")\n",
        "\n",
        "    def play_playlist(self, playlist):\n",
        "        if isinstance(playlist, Playlist):\n",
        "            for song in playlist.songs:\n",
        "                self.play_song(song)\n",
        "        else:\n",
        "            raise ValueError(\"Only instances of Playlist can be played.\")\n",
        "\n",
        "    def __str__(self):\n",
        "        return f'MusicPlayer with {len(self.playlists)} playlists'\n",
        "\n",
        "# Example usage:\n",
        "song1 = Song(\"Song 1\", \"Artist 1\", 300)\n",
        "song2 = Song(\"Song 2\", \"Artist 2\", 200)\n",
        "song3 = Song(\"Song 3\", \"Artist 3\", 400)\n",
        "\n",
        "playlist1 = Playlist(\"My Playlist\")\n",
        "playlist1.add_song\n"
      ],
      "metadata": {
        "colab": {
          "base_uri": "https://localhost:8080/",
          "height": 104
        },
        "id": "pAJwljnulhkc",
        "outputId": "5162e811-6941-47fc-d83e-545011d3b3ca"
      },
      "execution_count": 5,
      "outputs": [
        {
          "output_type": "execute_result",
          "data": {
            "text/plain": [
              "<bound method Playlist.add_song of <__main__.Playlist object at 0x78ce6553f8e0>>"
            ],
            "text/html": [
              "<div style=\"max-width:800px; border: 1px solid var(--colab-border-color);\"><style>\n",
              "      pre.function-repr-contents {\n",
              "        overflow-x: auto;\n",
              "        padding: 8px 12px;\n",
              "        max-height: 500px;\n",
              "      }\n",
              "\n",
              "      pre.function-repr-contents.function-repr-contents-collapsed {\n",
              "        cursor: pointer;\n",
              "        max-height: 100px;\n",
              "      }\n",
              "    </style>\n",
              "    <pre style=\"white-space: initial; background:\n",
              "         var(--colab-secondary-surface-color); padding: 8px 12px;\n",
              "         border-bottom: 1px solid var(--colab-border-color);\"><b>Playlist.add_song</b><br/>def add_song(song)</pre><pre class=\"function-repr-contents function-repr-contents-collapsed\" style=\"\"><a class=\"filepath\" style=\"display:none\" href=\"#\">/content/&lt;ipython-input-5-8a1ebac59994&gt;</a>&lt;no docstring&gt;</pre></div>"
            ]
          },
          "metadata": {},
          "execution_count": 5
        }
      ]
    },
    {
      "cell_type": "markdown",
      "source": [
        "17. Explain the concept of \"has-a\" relationships in composition and how it helps design software systems."
      ],
      "metadata": {
        "id": "ybk_PZo_ndBR"
      }
    },
    {
      "cell_type": "code",
      "source": [
        "# Composition over Inheritance: Encourages designing systems where classes are composed of other classes rather than using inheritance extensively. This can lead to more flexible and maintainable code.\n",
        "\n",
        "# Encapsulation: Composition helps in encapsulating functionality within distinct classes, allowing each class to have a clear responsibility and reducing the complexity of the system.\n",
        "\n",
        "# Reusability: By composing objects from other objects, you can reuse these components across different parts of your application or even in different projects.\n",
        "\n",
        "# Flexibility and Change: Composition allows for greater flexibility. If one component changes, it may have a minimal impact on the composed object. This is not always the case with inheritance, where changes to a base class can affect all derived classes."
      ],
      "metadata": {
        "id": "CHK5QjC0oUTS"
      },
      "execution_count": null,
      "outputs": []
    },
    {
      "cell_type": "markdown",
      "source": [
        "19. How can you achieve flexibility in composed objects by allowing them to be replaced or modified\n",
        "dynamically at runtime?"
      ],
      "metadata": {
        "id": "qWU39pbCoZWd"
      }
    },
    {
      "cell_type": "code",
      "source": [
        "# In object-oriented programming (OOP), a \"has-a\" relationship represents composition, where one class contains an instance of another class. This relationship indicates that objects of one class are composed of objects of another class, and the contained objects are considered parts or members of the containing class."
      ],
      "metadata": {
        "id": "RrTiyJSPpFAR"
      },
      "execution_count": null,
      "outputs": []
    },
    {
      "cell_type": "markdown",
      "source": [
        "20. Create a Python class for a social media application, using composition to represent users, posts, and\n",
        "comments."
      ],
      "metadata": {
        "id": "2XFaicsbpStv"
      }
    },
    {
      "cell_type": "code",
      "source": [
        "class User:\n",
        "    def __init__(self, username):\n",
        "        self.username = username\n",
        "        self.posts = []\n",
        "\n",
        "    def create_post(self, content):\n",
        "        post = Post(content, self)\n",
        "        self.posts.append(post)\n",
        "        return post\n",
        "\n",
        "    def __str__(self):\n",
        "        return f'User(username={self.username})'\n",
        "\n",
        "\n",
        "class Post:\n",
        "    def __init__(self, content, author):\n",
        "        self.content = content\n",
        "        self.author = author\n",
        "        self.comments = []\n",
        "\n",
        "    def add_comment(self, content, user):\n",
        "        comment = Comment(content, user)\n",
        "        self.comments.append(comment)\n",
        "        return comment\n",
        "\n",
        "    def __str__(self):\n",
        "        return f'Post(content={self.content}, author={self.author.username})'\n",
        "\n",
        "\n",
        "class Comment:\n",
        "    def __init__(self, content, author):\n",
        "        self.content = content\n",
        "        self.author = author\n",
        "\n",
        "    def __str__(self):\n",
        "        return f'Comment(content={self.content}, author={self.author.username})'\n",
        "\n",
        "\n",
        "# Example usage\n",
        "if __name__ == \"__main__\":\n",
        "    # Creating users\n",
        "    alice = User(\"Alice\")\n",
        "    bob = User(\"Bob\")\n",
        "\n",
        "    # Alice creates a post\n",
        "    post1 = alice.create_post(\"This is Alice's first post!\")\n",
        "\n",
        "    # Bob comments on Alice's post\n",
        "    comment1 = post1.add_comment(\"Nice post, Alice!\", bob)\n",
        "\n",
        "    # Alice creates another post\n",
        "    post2 = alice.create_post(\"Alice's second post here.\")\n",
        "\n",
        "    # Printing out the posts and comments\n",
        "    print(post1)\n",
        "    for comment in post1.comments:\n",
        "        print(comment)\n",
        "\n",
        "    print(post2)\n",
        "    for comment in post2.comments:\n",
        "        print(comment)\n"
      ],
      "metadata": {
        "colab": {
          "base_uri": "https://localhost:8080/"
        },
        "id": "vsknfkvgpXgB",
        "outputId": "397293ef-5060-4282-e500-c24ad3cadaf9"
      },
      "execution_count": 6,
      "outputs": [
        {
          "output_type": "stream",
          "name": "stdout",
          "text": [
            "Post(content=This is Alice's first post!, author=Alice)\n",
            "Comment(content=Nice post, Alice!, author=Bob)\n",
            "Post(content=Alice's second post here., author=Alice)\n"
          ]
        }
      ]
    }
  ]
}